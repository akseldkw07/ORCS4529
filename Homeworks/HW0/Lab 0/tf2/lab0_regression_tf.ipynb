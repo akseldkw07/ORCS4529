{
 "cells": [
  {
   "cell_type": "markdown",
   "id": "apart-stephen",
   "metadata": {
    "id": "apart-stephen"
   },
   "source": [
    "## Introduction to Deep Learning with TensorFlow 2\n",
    "\n",
    "This notebook will walk through the procedure of developing a neural network to solve a supervised learning problem with TensorFlow 2. Let's begin with an example of a regression problem:"
   ]
  },
  {
   "cell_type": "markdown",
   "id": "composed-volunteer",
   "metadata": {
    "id": "composed-volunteer"
   },
   "source": [
    "## Toy Example\n",
    "The requirements are the following:\n",
    "\n",
    "1. A dataset D = {$(x_1,y_1), (x_2,y_2), ..., (x_N, y_N)$}\n",
    "2. A parametric model f with a specified model architecture (i.e. the functional form of f).\n",
    "3. A loss function that evaluates the error in the outputs (predictions) of the model with respect to the ground truth labels y from the dataset D"
   ]
  },
  {
   "cell_type": "code",
   "execution_count": null,
   "id": "divided-timer",
   "metadata": {
    "id": "divided-timer"
   },
   "outputs": [],
   "source": [
    "import tensorflow as tf\n",
    "import matplotlib.pyplot as plt"
   ]
  },
  {
   "cell_type": "markdown",
   "id": "gross-apollo",
   "metadata": {
    "id": "gross-apollo"
   },
   "source": [
    "### Dataset\n",
    "Let's collect a dataset of x,y samples where: $$y = 3x^2 + x - 2$$\n",
    "\n",
    "$$X = [x_1, x_2, x_3, ..., x_N]^T$$\n",
    "$$Y = [y_1, y_2, y_3, ..., y_N]^T$$\n",
    "\n",
    "1. Each $x_i$ is a real number, so X has dimensions Nx1\n",
    "2. Each $y_i$ is a real number, so Y has dimensions Nx1"
   ]
  },
  {
   "cell_type": "code",
   "execution_count": null,
   "id": "collected-stretch",
   "metadata": {
    "colab": {
     "base_uri": "https://localhost:8080/"
    },
    "executionInfo": {
     "elapsed": 445,
     "status": "ok",
     "timestamp": 1646926533195,
     "user": {
      "displayName": "Shipra Agrawal",
      "photoUrl": "https://lh3.googleusercontent.com/a/default-user=s64",
      "userId": "12760872725468885671"
     },
     "user_tz": 300
    },
    "id": "collected-stretch",
    "outputId": "2d8dbed3-836e-4d7d-d175-1449a46b1f7e"
   },
   "outputs": [
    {
     "name": "stdout",
     "output_type": "stream",
     "text": [
      "(10000, 1) (10000, 1)\n"
     ]
    }
   ],
   "source": [
    "x = tf.expand_dims(\n",
    "    tf.linspace(start=-1, stop=1, num=10000), 1\n",
    ")  # 10000 equally spaced values between [-1, 1]\n",
    "y = tf.cast(3 * x**2 + x - 2, tf.double)\n",
    "\n",
    "print(x.shape, y.shape)"
   ]
  },
  {
   "cell_type": "code",
   "execution_count": null,
   "id": "passive-latex",
   "metadata": {
    "colab": {
     "base_uri": "https://localhost:8080/",
     "height": 282
    },
    "executionInfo": {
     "elapsed": 742,
     "status": "ok",
     "timestamp": 1646926533933,
     "user": {
      "displayName": "Shipra Agrawal",
      "photoUrl": "https://lh3.googleusercontent.com/a/default-user=s64",
      "userId": "12760872725468885671"
     },
     "user_tz": 300
    },
    "id": "passive-latex",
    "outputId": "7406651f-e003-4d60-e4f7-160bee015189"
   },
   "outputs": [
    {
     "data": {
      "text/plain": [
       "<matplotlib.collections.PathCollection at 0x7feac0432b10>"
      ]
     },
     "execution_count": 3,
     "metadata": {},
     "output_type": "execute_result"
    },
    {
     "data": {
      "image/png": "[encoded data removed]",
      "text/plain": [
       "<Figure size 432x288 with 1 Axes>"
      ]
     },
     "metadata": {
      "needs_background": "light"
     },
     "output_type": "display_data"
    }
   ],
   "source": [
    "# visualize the dataset\n",
    "plt.scatter(x, y)"
   ]
  },
  {
   "cell_type": "markdown",
   "id": "italian-strain",
   "metadata": {
    "id": "italian-strain"
   },
   "source": [
    "### Model\n",
    "Let's define the model (i.e. the function f) that will map x to y. We assume that we do not know that y is a quadratic function of x. All we will assume is that x and y have a highly nonlinear relationship. Then, what should this function f be? A neural network, specifically a Multi-Layer Perceptron!"
   ]
  },
  {
   "cell_type": "markdown",
   "id": "revised-double",
   "metadata": {
    "id": "revised-double"
   },
   "source": [
    "**Multi-Layer Perceptron (MLP)**\n",
    "\n",
    "MLP is a generic yet useful neural network model. Consider a MLP for regression task, where we want to learn a mapping $x \\in \\mathbb{R}^k \\mapsto y \\in \\mathbb{R}$. The input $x$ is $k$-dimensional and $y$ is scalar. The simplest regression model is linear model with parameter $w \\in \\mathbb{R}^k$ and $w_0 \\in \\mathbb{R}$, we can propose to predict $y$ as $y_{pred} = w^T x + w_0$.\n",
    "\n",
    "MLP is a generalization of linear regression. Consider a linear transformation by matrix $W_1\\in\\mathbb{R}^{k\\times l}$ and bias vector $b_1\\in \\mathbb{R}^l$:\n",
    "\n",
    "$$h_1 = x * W_1 + b_1$$\n",
    "\n",
    "In addition to linear transformation, apply a non-linear function $\\sigma(\\cdot)$ elementwise to the above hidden vector $h_1$\n",
    "\n",
    "$$z_1 = \\sigma (h_1) $$\n",
    "\n",
    "We have essentially generated a set of features $z_1$ from $x$. This set of features can be used as input to another linear model to predict $y$. Let us specify another set of parameter $W_2 \\in \\mathbb{R}^l, b_2 \\in \\mathbb{R}$. The prediction is:\n",
    "\n",
    "$$y_{pred} = z_1 * W_2 + b_2$$\n",
    "\n",
    "A input-output mapping from $x$ to $y_{pred}$ can be compactly written as below:\n",
    "\n",
    "$$y_{pred} = \\sigma(x * W_1 + b_1) * W_2 + b_2$$\n",
    "\n",
    "We have just defined a simplest MLP. In simple words, MLP is defined by alternately stacking linear mappings ($W_1,b_1$) and nonlinear function ($\\sigma(\\cdot)$). Now, instead of having parameter $w,w_0$ in linear model, we have parameters $W_1,b_1,W_2,b_2$ in our simple MLP. Though this inevitably introduces more parameters, the model becomes more expressive and powerful as well.\n",
    "\n",
    "We can define our model as: $$ f(x) = y_{pred} =  \\sigma(x * W_1 + b_1) * W_2 + b_2$$\n",
    "\n",
    "1. x has dimension Nx1\n",
    "2. $W_1$ has dimension 1x100\n",
    "3. $b_1$ has dimension 1x1\n",
    "4. $W_2$ has dimension 100x1\n",
    "5. $b_2$ has dimension 1x1"
   ]
  },
  {
   "cell_type": "code",
   "execution_count": null,
   "id": "pending-borough",
   "metadata": {
    "id": "pending-borough"
   },
   "outputs": [],
   "source": [
    "model = tf.keras.models.Sequential(\n",
    "    [tf.keras.layers.Dense(100, activation=\"relu\"), tf.keras.layers.Dense(1)]\n",
    ")\n",
    "y_hat = tf.cast(model(x), tf.double)\n",
    "optimizer = tf.keras.optimizers.Adam(learning_rate=0.001)"
   ]
  },
  {
   "cell_type": "code",
   "execution_count": null,
   "id": "assured-calvin",
   "metadata": {
    "colab": {
     "base_uri": "https://localhost:8080/",
     "height": 265
    },
    "executionInfo": {
     "elapsed": 727,
     "status": "ok",
     "timestamp": 1646926534838,
     "user": {
      "displayName": "Shipra Agrawal",
      "photoUrl": "https://lh3.googleusercontent.com/a/default-user=s64",
      "userId": "12760872725468885671"
     },
     "user_tz": 300
    },
    "id": "assured-calvin",
    "outputId": "162a7368-6257-4cb3-e1a9-8ee0d74611a4"
   },
   "outputs": [
    {
     "data": {
      "image/png": "[encoded data removed]",
      "text/plain": [
       "<Figure size 432x288 with 1 Axes>"
      ]
     },
     "metadata": {
      "needs_background": "light"
     },
     "output_type": "display_data"
    }
   ],
   "source": [
    "# visualize model predictions\n",
    "plt.scatter(x, y, label=\"ground-truth\")\n",
    "plt.scatter(x, y_hat, label=\"prediction\")\n",
    "plt.legend(loc=\"upper right\")\n",
    "plt.show()"
   ]
  },
  {
   "cell_type": "markdown",
   "id": "according-creation",
   "metadata": {
    "id": "according-creation"
   },
   "source": [
    "### Loss\n",
    "We need a loss function that will evaluate the quality of model predictions against ground truth labels y.\n",
    "\n",
    "Let's use $L(\\hat{y}, y) = (\\hat{y}-y)^2$."
   ]
  },
  {
   "cell_type": "code",
   "execution_count": null,
   "id": "welsh-mention",
   "metadata": {
    "colab": {
     "base_uri": "https://localhost:8080/"
    },
    "executionInfo": {
     "elapsed": 10,
     "status": "ok",
     "timestamp": 1646926534839,
     "user": {
      "displayName": "Shipra Agrawal",
      "photoUrl": "https://lh3.googleusercontent.com/a/default-user=s64",
      "userId": "12760872725468885671"
     },
     "user_tz": 300
    },
    "id": "welsh-mention",
    "outputId": "ef911b0a-9aee-4c7f-fed9-68b7d586be7e"
   },
   "outputs": [
    {
     "name": "stdout",
     "output_type": "stream",
     "text": [
      "The loss or error in the model's predictions compared to the ground truth is 2.1621\n"
     ]
    }
   ],
   "source": [
    "L = tf.reduce_mean(((y_hat - y) ** 2))\n",
    "print(\n",
    "    \"The loss or error in the model's predictions compared to the ground truth is %.4f\"\n",
    "    % (L)\n",
    ")"
   ]
  },
  {
   "cell_type": "markdown",
   "id": "tired-toddler",
   "metadata": {
    "id": "tired-toddler"
   },
   "source": [
    "### Optimization (training the model)\n",
    "Now we will optimize our model f until the loss is below a threshold. We have already discussed the general recipe at the very beginning of this tutorial."
   ]
  },
  {
   "cell_type": "code",
   "execution_count": null,
   "id": "cleared-implement",
   "metadata": {
    "id": "cleared-implement"
   },
   "outputs": [],
   "source": [
    "alpha = 0.001\n",
    "error_tolerance = 0.01"
   ]
  },
  {
   "cell_type": "code",
   "execution_count": null,
   "id": "coastal-treat",
   "metadata": {
    "colab": {
     "base_uri": "https://localhost:8080/"
    },
    "collapsed": true,
    "executionInfo": {
     "elapsed": 19493,
     "status": "ok",
     "timestamp": 1646926554327,
     "user": {
      "displayName": "Shipra Agrawal",
      "photoUrl": "https://lh3.googleusercontent.com/a/default-user=s64",
      "userId": "12760872725468885671"
     },
     "user_tz": 300
    },
    "id": "coastal-treat",
    "outputId": "7dbe7925-9116-4108-ad12-8e993c27a5e6"
   },
   "outputs": [
    {
     "name": "stdout",
     "output_type": "stream",
     "text": [
      "2.1621391560281666\n",
      "2.1390006179647236\n",
      "2.1161800160730944\n",
      "2.0936817553436087\n",
      "2.0715183914418698\n",
      "2.0496851935530307\n",
      "2.0281580026842216\n",
      "2.0068755842696495\n",
      "1.9857717322816604\n",
      "1.9648356643040625\n",
      "1.944078588473278\n",
      "1.923490092720909\n",
      "1.9030659674091075\n",
      "1.882797460319667\n",
      "1.862672722829126\n",
      "1.8426780556781392\n",
      "1.8227983167994417\n",
      "1.8030184108200875\n",
      "1.7833263170566083\n",
      "1.7637088790631177\n",
      "1.744152536811454\n",
      "1.7246440606592397\n",
      "1.7051712437936344\n",
      "1.685723663982316\n",
      "1.666293874828342\n",
      "1.6468796150093026\n",
      "1.627485057131478\n",
      "1.6081201781629897\n",
      "1.5887720753414065\n",
      "1.569429508327836\n",
      "1.5500850030579811\n",
      "1.530731690352698\n",
      "1.5113634879783637\n",
      "1.491975391567323\n",
      "1.4725637745067142\n",
      "1.453126762744785\n",
      "1.433664765866054\n",
      "1.4141805813305337\n",
      "1.3946762422521584\n",
      "1.375158276778557\n",
      "1.3556377802234516\n",
      "1.3361310121334273\n",
      "1.3166608004420726\n",
      "1.2972410598644721\n",
      "1.2778779512726408\n",
      "1.258585858123332\n",
      "1.239382622753872\n",
      "1.2202834340420974\n",
      "1.2013153542674342\n",
      "1.182497637811791\n",
      "1.163825391707998\n",
      "1.1452961612099959\n",
      "1.1269229956778615\n",
      "1.1087213863172507\n",
      "1.0907092965237444\n",
      "1.0729073554691313\n",
      "1.0553213016771503\n",
      "1.0379519241860096\n",
      "1.020814710557546\n",
      "1.0039264819042992\n",
      "0.9872951943113792\n",
      "0.9709336898578704\n",
      "0.9548594383238603\n",
      "0.939087746168285\n",
      "0.9236176134729854\n",
      "0.9084613412967818\n",
      "0.8936247905052845\n",
      "0.8791057789406477\n",
      "0.8649142161539676\n",
      "0.8510566882165447\n",
      "0.8375257665289096\n",
      "0.8243261989299042\n",
      "0.8114647844770044\n",
      "0.7989492953118993\n",
      "0.7867880858354546\n",
      "0.7749900298315241\n",
      "0.7635638770297065\n",
      "0.7525175431166438\n",
      "0.7418378345380919\n",
      "0.7314961980360845\n",
      "0.7214770379093869\n",
      "0.7117634698330602\n",
      "0.7023360230366764\n",
      "0.693173728520827\n",
      "0.6842650021426038\n",
      "0.6755975503190157\n",
      "0.6671615071897244\n",
      "0.6589454686685127\n",
      "0.6509405345919705\n",
      "0.6431393464748184\n",
      "0.6355352985090994\n",
      "0.628122484213531\n",
      "0.6208953713454564\n",
      "0.6138448445111463\n",
      "0.6069493362745907\n",
      "0.6001975092683882\n",
      "0.5935824525731624\n",
      "0.5870917719579003\n",
      "0.5807174650789677\n",
      "0.5744541466350209\n",
      "0.5682968644552546\n",
      "0.5622409951556292\n",
      "0.5562805981128564\n",
      "0.5504084737364797\n",
      "0.5446207098622443\n",
      "0.5389136089554113\n",
      "0.533282719957953\n",
      "0.5277202870275908\n",
      "0.5222237712106227\n",
      "0.5167918811216143\n",
      "0.5114232097853828\n",
      "0.5061133336736195\n",
      "0.5008609513985665\n",
      "0.4956657374107538\n",
      "0.49052744826499767\n",
      "0.48544573511854977\n",
      "0.480418958013732\n",
      "0.47544196805595945\n",
      "0.4705095641602589\n",
      "0.4656208670664033\n",
      "0.4607758687874705\n",
      "0.4559742789237427\n",
      "0.4512129175219848\n",
      "0.4464878059425095\n",
      "0.4417982778622481\n",
      "0.43714395955738583\n",
      "0.4325224366430112\n",
      "0.42793350650241907\n",
      "0.4233773807578233\n",
      "0.4188542064837726\n",
      "0.41436416736459725\n",
      "0.40990735000680795\n",
      "0.4054838364569152\n",
      "0.40109365600575364\n",
      "0.39673670946695705\n",
      "0.392412580523869\n",
      "0.3881198080920894\n",
      "0.38385815880417173\n",
      "0.3796275154388917\n",
      "0.3754276640177808\n",
      "0.37125783057764933\n",
      "0.3671167547524954\n",
      "0.3630043227190973\n",
      "0.35892039300100703\n",
      "0.3548648682792995\n",
      "0.3508375938326431\n",
      "0.3468382665930231\n",
      "0.3428655438310817\n",
      "0.33891916865538096\n",
      "0.3349992137159616\n",
      "0.3311056917302638\n",
      "0.32723868295273095\n",
      "0.3233982396696669\n",
      "0.31958447671423074\n",
      "0.3157974892017245\n",
      "0.3120373470379752\n",
      "0.30830418451302743\n",
      "0.304598114630066\n",
      "0.3009192066940418\n",
      "0.29726760253326023\n",
      "0.29364339771238646\n",
      "0.2900466782206588\n",
      "0.28647759664175954\n",
      "0.2829361648273353\n",
      "0.27942237059092967\n",
      "0.27593573073087646\n",
      "0.27247635311804824\n",
      "0.26904448585155083\n",
      "0.26564024462981844\n",
      "0.2622638354833446\n",
      "0.2589154573908221\n",
      "0.25559526988267706\n",
      "0.25230345527347847\n",
      "0.2490401884326582\n",
      "0.24580571945980756\n",
      "0.24260027045725374\n",
      "0.23942402731910015\n",
      "0.23627713303584605\n",
      "0.2331597223614137\n",
      "0.23007198055935119\n",
      "0.22701402717959876\n",
      "0.22398598326475685\n",
      "0.2209879807472484\n",
      "0.21802015083088958\n",
      "0.21508261542812146\n",
      "0.2121754777903082\n",
      "0.209298842805825\n",
      "0.20645281630716422\n",
      "0.20363747591478787\n",
      "0.20085290445556\n",
      "0.19809920048860435\n",
      "0.19537641182980728\n",
      "0.19268459943581448\n",
      "0.19002381583623928\n",
      "0.18739407332050886\n",
      "0.1847954310982166\n",
      "0.18222789527240993\n",
      "0.1796914701236055\n",
      "0.17718613422850182\n",
      "0.17471189836768253\n",
      "0.17226871894069237\n",
      "0.16985653775686538\n",
      "0.16747535125585414\n",
      "0.16512507440451557\n",
      "0.1628056530920002\n",
      "0.16051698578244325\n",
      "0.15825901731672148\n",
      "0.15603162598763834\n",
      "0.15383473353894248\n",
      "0.15166820454439867\n",
      "0.14953183295402278\n",
      "0.147425263770555\n",
      "0.1453483881171125\n",
      "0.14330109974733832\n",
      "0.14128328173244223\n",
      "0.13929483431665204\n",
      "0.13733561856461401\n",
      "0.13540552083430907\n",
      "0.1335043865252709\n",
      "0.13163208603486548\n",
      "0.12978846987203974\n",
      "0.12797336414379287\n",
      "0.12618661761112476\n",
      "0.12442804644397176\n",
      "0.12269746734251508\n",
      "0.1209946981639469\n",
      "0.11931953501157656\n",
      "0.1176717815727338\n",
      "0.1160512333746356\n",
      "0.11445767169834639\n",
      "0.11289086079867497\n",
      "0.11135058875791877\n",
      "0.10983659445046384\n",
      "0.10834867359094619\n",
      "0.10688655527441483\n",
      "0.10544998715305248\n",
      "0.10403873756336525\n",
      "0.1026525235016069\n",
      "0.1012910883398656\n",
      "0.09995417327788948\n",
      "0.09864148649877674\n",
      "0.09735277435765428\n",
      "0.09608775591278018\n",
      "0.09484614754486909\n",
      "0.09362766406915934\n",
      "0.09243204319752749\n",
      "0.09125893406646188\n",
      "0.09010801435462086\n",
      "0.08897898213004717\n",
      "0.08787156376822913\n",
      "0.08678546797202981\n",
      "0.08572045111392214\n",
      "0.08467621012341249\n",
      "0.08365246778767824\n",
      "0.0826489438209919\n",
      "0.0816653531891969\n",
      "0.08070142052028291\n",
      "0.07975684439312974\n",
      "0.07883136826955647\n",
      "0.07792468715676859\n",
      "0.0770365263002429\n",
      "0.07616658890896812\n",
      "0.07531460485653793\n",
      "0.07448030604144135\n",
      "0.07366340271111194\n",
      "0.07286361114067584\n",
      "0.07208069494569107\n",
      "0.07131438967729158\n",
      "0.07056444686124917\n",
      "0.06983058999111044\n",
      "0.06911255349080689\n",
      "0.0684100383492173\n",
      "0.06772278586612004\n",
      "0.06705051754126355\n",
      "0.06639294203367295\n",
      "0.06574981198982621\n",
      "0.0651208225563163\n",
      "0.06450571971538846\n",
      "0.06390422785653134\n",
      "0.06331607515343456\n",
      "0.06274100305497814\n",
      "0.0621787693846526\n",
      "0.06162911641806429\n",
      "0.06109178672998684\n",
      "0.060566502261083704\n",
      "0.06005298381064085\n",
      "0.0595509880377895\n",
      "0.05906022661477258\n",
      "0.05858043956690759\n",
      "0.05811133884876049\n",
      "0.057652655177169894\n",
      "0.05720412005676662\n",
      "0.05676542858310322\n",
      "0.05633631584586369\n",
      "0.055916485533875425\n",
      "0.0555056460869745\n",
      "0.05510350213119931\n",
      "0.054709746479815385\n",
      "0.05432407862558775\n",
      "0.053946183395877555\n",
      "0.05357573194168026\n",
      "0.053212425045451754\n",
      "0.05285591798779751\n",
      "0.05250590799582801\n",
      "0.0521620530088632\n",
      "0.05182403062558976\n",
      "0.05149153508587026\n",
      "0.05116424098930846\n",
      "0.05084183967552391\n",
      "0.050524036439481314\n",
      "0.05021054756773222\n",
      "0.04990107793840529\n",
      "0.04959536483076106\n",
      "0.04929315667312379\n",
      "0.048994211922099073\n",
      "0.048698289996939405\n",
      "0.04840516083145289\n",
      "0.048114622407124705\n",
      "0.04782646265034411\n",
      "0.047540485146853224\n",
      "0.047256502174835596\n",
      "0.04697435348918492\n",
      "0.046693884618149106\n",
      "0.046414938573042484\n",
      "0.04613738227601417\n",
      "0.04586109015218879\n",
      "0.04558596350846281\n",
      "0.04531192133534582\n",
      "0.04503886529923152\n",
      "0.044766754094265296\n",
      "0.04449551141962975\n",
      "0.0442251196069405\n",
      "0.04395554435148187\n",
      "0.04368676801494986\n",
      "0.043418804350782915\n",
      "0.04315164584952322\n",
      "0.04288529429811656\n",
      "0.042619770440913536\n",
      "0.042355101194172434\n",
      "0.04209131114391091\n",
      "0.0418284036342041\n",
      "0.04156642341667135\n",
      "0.04130537572726916\n",
      "0.04104528710730351\n",
      "0.04078618278012749\n",
      "0.04052806290327383\n",
      "0.040270931811806965\n",
      "0.040014816830002534\n",
      "0.03975970100766917\n",
      "0.03950559917958986\n",
      "0.03925249679146438\n",
      "0.03900041503912954\n",
      "0.03874935046673478\n",
      "0.03849933626324264\n",
      "0.038250385210170455\n",
      "0.03800251839600247\n",
      "0.037755734881603976\n",
      "0.0375100644804851\n",
      "0.03726550580492357\n",
      "0.03702207961545188\n",
      "0.03677978675908648\n",
      "0.0365386501312162\n",
      "0.03629866351220243\n",
      "0.03605983175736213\n",
      "0.0358221635650565\n",
      "0.03558565452170061\n",
      "0.03535029353490235\n",
      "0.035116085637789604\n",
      "0.03488302039650512\n",
      "0.03465109687941759\n",
      "0.03442030299807655\n",
      "0.034190631320142655\n",
      "0.03396206786984449\n",
      "0.03373461747783668\n",
      "0.033508256935581904\n",
      "0.033282993156173425\n",
      "0.03305880721904829\n",
      "0.03283571100185395\n",
      "0.03261367694161525\n",
      "0.03239272542022429\n",
      "0.03217285170575592\n",
      "0.03195404446337252\n",
      "0.0317363198089044\n",
      "0.03151967548769297\n",
      "0.031304125427203726\n",
      "0.031089682406028708\n",
      "0.030876358076280377\n",
      "0.030664165555207575\n",
      "0.030453110574530602\n",
      "0.030243216357842176\n",
      "0.030034497646749123\n",
      "0.029826958188807918\n",
      "0.029620634746947337\n",
      "0.02941553155927114\n",
      "0.02921167517002266\n",
      "0.02900908771661834\n",
      "0.028807789887625307\n",
      "0.02860779792359099\n",
      "0.028409151298683592\n",
      "0.02821187377131974\n",
      "0.02801598309300266\n",
      "0.027821501034145876\n",
      "0.027628460053186883\n",
      "0.027436873239419676\n",
      "0.02724676019847018\n",
      "0.027058141502892964\n",
      "0.026871029509842517\n",
      "0.02668544243495777\n",
      "0.026501395604527814\n",
      "0.026318893270533907\n",
      "0.026137948878995974\n",
      "0.02595856648287671\n",
      "0.025780748281953977\n",
      "0.02560450221524725\n",
      "0.025429821364024708\n",
      "0.025256707113372467\n",
      "0.02508515985582489\n",
      "0.02491516961615333\n",
      "0.024746727528400698\n",
      "0.024579832750620083\n",
      "0.024414474807945154\n",
      "0.024250634728059852\n",
      "0.024088306158628846\n",
      "0.023927478188084567\n",
      "0.02376813358836595\n",
      "0.023610256810915494\n",
      "0.023453831817468216\n",
      "0.023298845332582623\n",
      "0.023145274875557932\n",
      "0.02299310287813858\n",
      "0.02284231263826586\n",
      "0.022692882461696037\n",
      "0.02254479671560622\n",
      "0.022398032387830575\n",
      "0.022252571076568774\n",
      "0.022108388876088604\n",
      "0.02196547433967225\n",
      "0.02182380414684873\n",
      "0.021683353747566636\n",
      "0.021544111236287335\n",
      "0.02140605504764683\n",
      "0.02126916196562841\n",
      "0.021133419573069693\n",
      "0.020998801120500482\n",
      "0.020865294067031456\n",
      "0.020732878882813277\n",
      "0.020601539533715074\n",
      "0.020471254173039855\n",
      "0.020342005712835037\n",
      "0.020213779025257336\n",
      "0.020086553589584083\n",
      "0.019960319244894335\n",
      "0.019835057106220064\n",
      "0.019710748735723326\n",
      "0.0195873801307414\n",
      "0.01946493532862933\n",
      "0.019343402411948277\n",
      "0.019222766313648613\n",
      "0.019103012779062695\n",
      "0.01898412734024618\n",
      "0.018866096435883134\n",
      "0.01874891181216053\n",
      "0.018632558233124732\n",
      "0.01851702444869288\n",
      "0.018402298405094674\n",
      "0.018288370214813734\n",
      "0.018175227711669385\n",
      "0.01806286268358244\n",
      "0.01795126714482006\n",
      "0.01784042726491427\n",
      "0.01773033490460289\n",
      "0.017620984170035048\n",
      "0.017512364161418423\n",
      "0.0174044689109723\n",
      "0.017297289877166503\n",
      "0.01719081995829483\n",
      "0.017085050871372253\n",
      "0.01697997570577985\n",
      "0.0168755904538348\n",
      "0.016771888136081565\n",
      "0.016668861598053104\n",
      "0.01656650852357273\n",
      "0.01646482141405731\n",
      "0.0163637930073916\n",
      "0.016263421413189094\n",
      "0.016163702297992067\n",
      "0.01606463037317452\n",
      "0.01596620110580941\n",
      "0.015868412098472992\n",
      "0.015771255782543177\n",
      "0.015674732161723954\n",
      "0.015578836272780415\n",
      "0.01548356498207217\n",
      "0.015388913948976813\n",
      "0.015294883136325188\n",
      "0.015201465339458133\n",
      "0.015108661843499417\n",
      "0.015016467059238795\n",
      "0.014924878699267407\n",
      "0.014833896064322345\n",
      "0.014743513303613101\n",
      "0.014653729702892576\n",
      "0.014564543505034852\n",
      "0.014475950227458543\n",
      "0.01438795026064704\n",
      "0.014300538181781263\n",
      "0.014213714439800549\n",
      "0.014127475737661547\n",
      "0.014041818652565331\n",
      "0.01395674162348867\n",
      "0.013872242643738148\n",
      "0.013788319082046235\n",
      "0.0137049696938992\n",
      "0.013622190533879046\n",
      "0.013539980342822664\n",
      "0.013458335909394282\n",
      "0.013377256825139145\n",
      "0.013296738089701086\n",
      "0.013216778804713806\n",
      "0.0131373749037888\n",
      "0.013058525642813583\n",
      "0.01298022905784209\n",
      "0.012902480360360352\n",
      "0.012825279316556172\n",
      "0.012748620450631668\n",
      "0.012672504034668313\n",
      "0.012596926035873758\n",
      "0.012521883849556173\n",
      "0.012447374864534991\n",
      "0.01237339433316315\n",
      "0.012299942365001966\n",
      "0.012227014336477703\n",
      "0.012154606323236648\n",
      "0.012082717023625367\n",
      "0.012011343379222297\n",
      "0.011940481999810635\n",
      "0.011870129611829974\n",
      "0.011800283939121073\n",
      "0.011730941044337128\n",
      "0.011662098112644107\n",
      "0.011593750486587475\n",
      "0.011525897025986333\n",
      "0.011458533598849727\n",
      "0.011391657803955324\n",
      "0.01132526388487745\n",
      "0.011259351857267237\n",
      "0.011193917149901403\n",
      "0.011128955462135723\n",
      "0.011064463640753149\n",
      "0.011000440259967202\n",
      "0.010936879249244486\n",
      "0.010873779008542986\n",
      "0.010811135871114826\n",
      "0.010748946818214526\n",
      "0.01068720800702223\n",
      "0.010625915363762794\n",
      "0.010565067639487476\n",
      "0.010504657736319659\n",
      "0.010444685953683176\n",
      "0.010385148412254259\n",
      "0.010326040172412405\n",
      "0.010267359880327117\n",
      "0.010209101668260626\n",
      "0.010151264569245476\n",
      "0.010093842826829529\n",
      "0.010036835850862997\n",
      "0.009980237649924851\n"
     ]
    }
   ],
   "source": [
    "while L > error_tolerance:\n",
    "    with tf.GradientTape() as tape:\n",
    "        # forward pass\n",
    "        y_hat = tf.cast(model(x), tf.double)\n",
    "        L = tf.reduce_mean((y_hat - y) ** 2)\n",
    "\n",
    "    print(L.numpy())\n",
    "\n",
    "    # backward pass\n",
    "    gradients = tape.gradient(L, model.trainable_variables)\n",
    "\n",
    "    # update parameters\n",
    "    optimizer.apply_gradients(zip(gradients, model.trainable_variables))"
   ]
  },
  {
   "cell_type": "code",
   "execution_count": null,
   "id": "fiscal-dylan",
   "metadata": {
    "colab": {
     "base_uri": "https://localhost:8080/",
     "height": 265
    },
    "executionInfo": {
     "elapsed": 507,
     "status": "ok",
     "timestamp": 1646926554817,
     "user": {
      "displayName": "Shipra Agrawal",
      "photoUrl": "https://lh3.googleusercontent.com/a/default-user=s64",
      "userId": "12760872725468885671"
     },
     "user_tz": 300
    },
    "id": "fiscal-dylan",
    "outputId": "55ae0417-ce4f-40ee-b25a-c90fd17de58f"
   },
   "outputs": [
    {
     "data": {
      "image/png": "[encoded data removed]",
      "text/plain": [
       "<Figure size 432x288 with 1 Axes>"
      ]
     },
     "metadata": {
      "needs_background": "light"
     },
     "output_type": "display_data"
    }
   ],
   "source": [
    "# visualize model predictions\n",
    "plt.scatter(x, y, label=\"ground-truth\")\n",
    "plt.scatter(x, y_hat, label=\"prediction\")\n",
    "plt.legend(loc=\"upper right\")\n",
    "plt.show()"
   ]
  },
  {
   "cell_type": "markdown",
   "id": "suited-tamil",
   "metadata": {
    "id": "suited-tamil"
   },
   "source": [
    "## Harder Example\n",
    "\n",
    "### Dataset\n",
    "Let's collect a dataset of x,y samples where: $$y = sin(x) + \\epsilon$$\n",
    "\n",
    "$$X = [x_1, x_2, x_3, ..., x_N]^T$$\n",
    "$$Y = [y_1, y_2, y_3, ..., y_N]^T$$\n",
    "\n",
    "1. xi is a real value, so X has dimensions Nx1\n",
    "2. yi is a real value, so Y has dimensions Nx1\n",
    "3. $\\epsilon \\sim \\mathcal{N}(0,1)$"
   ]
  },
  {
   "cell_type": "code",
   "execution_count": null,
   "id": "sexual-colors",
   "metadata": {
    "colab": {
     "base_uri": "https://localhost:8080/"
    },
    "executionInfo": {
     "elapsed": 6,
     "status": "ok",
     "timestamp": 1646926554818,
     "user": {
      "displayName": "Shipra Agrawal",
      "photoUrl": "https://lh3.googleusercontent.com/a/default-user=s64",
      "userId": "12760872725468885671"
     },
     "user_tz": 300
    },
    "id": "sexual-colors",
    "outputId": "90249e8a-edb5-485e-9562-63b738efbfae"
   },
   "outputs": [
    {
     "name": "stdout",
     "output_type": "stream",
     "text": [
      "(10000, 1) (10000, 1)\n"
     ]
    }
   ],
   "source": [
    "x = tf.expand_dims(\n",
    "    tf.linspace(start=-10, stop=10, num=10000), 1\n",
    ")  # 10000 equally spaced values between [-10, 10]\n",
    "y = tf.sin(x) + 0.2 * tf.random.normal(shape=x.shape, dtype=tf.double)\n",
    "\n",
    "print(x.shape, y.shape)"
   ]
  },
  {
   "cell_type": "code",
   "execution_count": null,
   "id": "tamil-exchange",
   "metadata": {
    "colab": {
     "base_uri": "https://localhost:8080/",
     "height": 265
    },
    "executionInfo": {
     "elapsed": 428,
     "status": "ok",
     "timestamp": 1646926555242,
     "user": {
      "displayName": "Shipra Agrawal",
      "photoUrl": "https://lh3.googleusercontent.com/a/default-user=s64",
      "userId": "12760872725468885671"
     },
     "user_tz": 300
    },
    "id": "tamil-exchange",
    "outputId": "502fd63d-fb56-474b-fa3b-be97311d3f0e"
   },
   "outputs": [
    {
     "data": {
      "image/png": "[encoded data removed]",
      "text/plain": [
       "<Figure size 432x288 with 1 Axes>"
      ]
     },
     "metadata": {
      "needs_background": "light"
     },
     "output_type": "display_data"
    }
   ],
   "source": [
    "plt.scatter(x, y)\n",
    "plt.show()"
   ]
  },
  {
   "cell_type": "markdown",
   "id": "ranging-spelling",
   "metadata": {
    "id": "ranging-spelling"
   },
   "source": [
    "Let's also collect a test dataset that we will use to evaluate the model."
   ]
  },
  {
   "cell_type": "code",
   "execution_count": null,
   "id": "available-plymouth",
   "metadata": {
    "id": "available-plymouth"
   },
   "outputs": [],
   "source": [
    "x_test = tf.expand_dims(tf.linspace(start=-10, stop=10, num=5000), 1)\n",
    "y_test = tf.sin(x_test)"
   ]
  },
  {
   "cell_type": "markdown",
   "id": "alert-paraguay",
   "metadata": {
    "id": "alert-paraguay"
   },
   "source": [
    "Now it's your turn to define and train the model for this new dataset. You can copy code from the previous example.\n",
    "### Model"
   ]
  },
  {
   "cell_type": "code",
   "execution_count": null,
   "id": "turned-engagement",
   "metadata": {
    "id": "turned-engagement"
   },
   "outputs": [],
   "source": [
    "# TODO: Define the model, the optimizer, and predictor y_hat"
   ]
  },
  {
   "cell_type": "code",
   "execution_count": null,
   "id": "involved-advancement",
   "metadata": {
    "id": "involved-advancement"
   },
   "outputs": [],
   "source": [
    "# TODO: plot initial predictions"
   ]
  },
  {
   "cell_type": "markdown",
   "id": "shaped-harris",
   "metadata": {
    "id": "shaped-harris"
   },
   "source": [
    "### Loss"
   ]
  },
  {
   "cell_type": "code",
   "execution_count": null,
   "id": "official-expression",
   "metadata": {
    "id": "official-expression"
   },
   "outputs": [],
   "source": [
    "# TODO: Define loss function and print initial loss"
   ]
  },
  {
   "cell_type": "markdown",
   "id": "refined-hobby",
   "metadata": {
    "id": "refined-hobby"
   },
   "source": [
    "### Optimization\n",
    "Finally, train the model!"
   ]
  },
  {
   "cell_type": "code",
   "execution_count": null,
   "id": "current-verse",
   "metadata": {
    "id": "current-verse"
   },
   "outputs": [],
   "source": [
    "# TODO: Train the model"
   ]
  },
  {
   "cell_type": "code",
   "execution_count": null,
   "id": "israeli-cradle",
   "metadata": {
    "id": "israeli-cradle"
   },
   "outputs": [],
   "source": [
    "# TODO: Visualize model predictions"
   ]
  },
  {
   "cell_type": "code",
   "execution_count": null,
   "id": "wired-charter",
   "metadata": {
    "colab": {
     "base_uri": "https://localhost:8080/",
     "height": 176
    },
    "executionInfo": {
     "elapsed": 69,
     "status": "error",
     "timestamp": 1758032011049,
     "user": {
      "displayName": "Shipra Agrawal",
      "userId": "12760872725468885671"
     },
     "user_tz": 240
    },
    "id": "wired-charter",
    "outputId": "e5b586d3-4d6b-4833-d038-8ba093ec68a6"
   },
   "outputs": [
    {
     "ename": "NameError",
     "evalue": "name 'tf' is not defined",
     "output_type": "error",
     "traceback": [
      "\u001b[0;31m---------------------------------------------------------------------------\u001b[0m",
      "\u001b[0;31mNameError\u001b[0m                                 Traceback (most recent call last)",
      "\u001b[0;32m/tmp/ipython-input-3846934986.py\u001b[0m in \u001b[0;36m<cell line: 0>\u001b[0;34m()\u001b[0m\n\u001b[1;32m      2\u001b[0m \u001b[0;34m\u001b[0m\u001b[0m\n\u001b[1;32m      3\u001b[0m \u001b[0;31m# given predictions y_hat from the test input x_test\u001b[0m\u001b[0;34m\u001b[0m\u001b[0;34m\u001b[0m\u001b[0m\n\u001b[0;32m----> 4\u001b[0;31m \u001b[0mprint\u001b[0m\u001b[0;34m(\u001b[0m\u001b[0;34m\"test loss\"\u001b[0m\u001b[0;34m,\u001b[0m \u001b[0mtf\u001b[0m\u001b[0;34m.\u001b[0m\u001b[0mreduce_mean\u001b[0m\u001b[0;34m(\u001b[0m\u001b[0;34m(\u001b[0m\u001b[0my_test\u001b[0m\u001b[0;34m-\u001b[0m\u001b[0my_hat\u001b[0m\u001b[0;34m)\u001b[0m\u001b[0;34m**\u001b[0m\u001b[0;36m2\u001b[0m\u001b[0;34m)\u001b[0m\u001b[0;34m.\u001b[0m\u001b[0mnumpy\u001b[0m\u001b[0;34m(\u001b[0m\u001b[0;34m)\u001b[0m\u001b[0;34m)\u001b[0m\u001b[0;34m\u001b[0m\u001b[0;34m\u001b[0m\u001b[0m\n\u001b[0m",
      "\u001b[0;31mNameError\u001b[0m: name 'tf' is not defined"
     ]
    }
   ],
   "source": [
    "# DO NOT CHANGE\n",
    "\n",
    "# given predictions y_hat from the test input x_test\n",
    "print(\"test loss\", tf.reduce_mean((y_test - y_hat) ** 2).numpy())"
   ]
  },
  {
   "cell_type": "markdown",
   "id": "recognized-accent",
   "metadata": {
    "id": "recognized-accent"
   },
   "source": [
    "## Conclusion\n",
    "We have only scratched the surface of deep learning. Try changing the model architecture for better performance!\n",
    "\n",
    "Both PyTorch and Tensorflow help us compute derivatives, which is what we ultimately need to incrementally improve the model through several forward and backward passes.\n",
    "\n",
    "Please check out more information about the different APIs here:\n",
    "\n",
    "PyTorch: https://pytorch.org/tutorials/beginner/blitz/neural_networks_tutorial.html\n",
    "\n",
    "Tensorflow 2: https://www.tensorflow.org/tutorials/quickstart/advanced"
   ]
  }
 ],
 "metadata": {
  "colab": {
   "provenance": []
  },
  "kernelspec": {
   "display_name": "kret_312",
   "language": "python",
   "name": "python3"
  },
  "language_info": {
   "codemirror_mode": {
    "name": "ipython",
    "version": 3
   },
   "file_extension": ".py",
   "mimetype": "text/x-python",
   "name": "python",
   "nbconvert_exporter": "python",
   "pygments_lexer": "ipython3",
   "version": "3.12.11"
  }
 },
 "nbformat": 4,
 "nbformat_minor": 5
}
