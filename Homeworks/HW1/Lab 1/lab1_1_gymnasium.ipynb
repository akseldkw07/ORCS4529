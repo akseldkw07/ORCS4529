{
 "cells": [
  {
   "cell_type": "markdown",
   "metadata": {
    "id": "3aNAcJKSP7Me"
   },
   "source": [
    "# Lab 1: Problem 1 (MDP algorithms: tabular Q-learning)"
   ]
  },
  {
   "cell_type": "markdown",
   "metadata": {
    "id": "OxYtD0ZfP7Mi"
   },
   "source": [
    "*OpenAI gym FrozenLake environment*\n",
    "\n",
    "Winter is here. You and your friends were tossing around a frisbee at the park\n",
    "    when you made a wild throw that left the frisbee out in the middle of the lake.\n",
    "    The water is mostly frozen, but there are a few holes where the ice has melted.\n",
    "    If you step into one of those holes, you'll fall into the freezing water.\n",
    "    At this time, there's an international frisbee shortage, so it's absolutely imperative that\n",
    "    you navigate across the lake and retrieve the disc.\n",
    "    However, the ice is slippery, so you won't always move in the direction you intend.\n",
    "    The surface is described using a grid like the following\n",
    "\n",
    "        SFFF\n",
    "        FHFH\n",
    "        FFFH\n",
    "        HFFG\n",
    "\n",
    "    S : starting point, safe\n",
    "    F : frozen surface, safe\n",
    "    H : hole, fall to your doom\n",
    "    G : goal, where the frisbee is located\n",
    "\n",
    "    The episode ends when you reach the goal or fall in a hole.\n",
    "    You receive a reward of 1 if you reach the goal, and zero otherwise.\n",
    "    \n",
    "FrozenLake-v1 defines \"solving\" as getting average reward of 0.78 over 100 consecutive trials.\n",
    "\n",
    "More documentation: https://www.gymlibrary.dev/environments/toy_text/frozen_lake/\n"
   ]
  },
  {
   "cell_type": "code",
   "execution_count": 1,
   "metadata": {},
   "outputs": [],
   "source": [
    "%reload_ext autoreload\n",
    "%autoreload 2"
   ]
  },
  {
   "cell_type": "code",
   "execution_count": 2,
   "metadata": {},
   "outputs": [
    {
     "name": "stdout",
     "output_type": "stream",
     "text": [
      "Loaded environment variables from /Users/Akseldkw/Desktop/Columbia/ORCS4529/.env.\n",
      "/Users/Akseldkw/coding/kretsinger/data/nb_log.log\n"
     ]
    }
   ],
   "source": [
    "from kret_studies import *\n",
    "from kret_studies.notebook import *\n",
    "from kret_studies.complex import *\n",
    "from kret_studies.openai_gym import *\n",
    "\n",
    "logger = get_notebook_logger()"
   ]
  },
  {
   "cell_type": "code",
   "execution_count": 3,
   "metadata": {},
   "outputs": [],
   "source": [
    "env_vars = os.environ.copy()\n",
    "wand_db_dir = env_vars[\"OUTPUT_DIR\"] + \"/wandb\""
   ]
  },
  {
   "cell_type": "code",
   "execution_count": 4,
   "metadata": {
    "colab": {
     "base_uri": "https://localhost:8080/",
     "height": 312
    },
    "executionInfo": {
     "elapsed": 51658,
     "status": "ok",
     "timestamp": 1697747913852,
     "user": {
      "displayName": "Shipra Agrawal",
      "userId": "12760872725468885671"
     },
     "user_tz": 240
    },
    "id": "Hi-GbKIMP7Mk",
    "outputId": "a98cf515-3ad9-4ca2-f320-4e9277eb6bd6"
   },
   "outputs": [
    {
     "name": "stderr",
     "output_type": "stream",
     "text": [
      "/Users/Akseldkw/micromamba/envs/kret_312/lib/python3.12/site-packages/pydantic/_internal/_generate_schema.py:2249: UnsupportedFieldAttributeWarning: The 'repr' attribute with value False was provided to the `Field()` function, which has no effect in the context it was used. 'repr' is field-specific metadata, and can only be attached to a model field using `Annotated` metadata or by assignment. This may have happened because an `Annotated` type alias using the `type` statement was used, or if the `Field()` function was attached to a single member of a union type.\n",
      "  warnings.warn(\n",
      "/Users/Akseldkw/micromamba/envs/kret_312/lib/python3.12/site-packages/pydantic/_internal/_generate_schema.py:2249: UnsupportedFieldAttributeWarning: The 'frozen' attribute with value True was provided to the `Field()` function, which has no effect in the context it was used. 'frozen' is field-specific metadata, and can only be attached to a model field using `Annotated` metadata or by assignment. This may have happened because an `Annotated` type alias using the `type` statement was used, or if the `Field()` function was attached to a single member of a union type.\n",
      "  warnings.warn(\n",
      "\u001b[34m\u001b[1mwandb\u001b[0m: Currently logged in as: \u001b[33makseldkw\u001b[0m (\u001b[33makseldkw07\u001b[0m) to \u001b[32mhttps://api.wandb.ai\u001b[0m. Use \u001b[1m`wandb login --relogin`\u001b[0m to force relogin\n"
     ]
    },
    {
     "data": {
      "text/plain": [
       "True"
      ]
     },
     "execution_count": 4,
     "metadata": {},
     "output_type": "execute_result"
    }
   ],
   "source": [
    "# wandb set up for logging runs online and moving them to the leaderboard\n",
    "# create a wandb account when prompted, or simply sign in if you already have an account\n",
    "# !pip install wandb -qqq\n",
    "import wandb\n",
    "\n",
    "wandb.login()"
   ]
  },
  {
   "cell_type": "code",
   "execution_count": 5,
   "metadata": {
    "colab": {
     "base_uri": "https://localhost:8080/"
    },
    "executionInfo": {
     "elapsed": 1142,
     "status": "ok",
     "timestamp": 1697747914987,
     "user": {
      "displayName": "Shipra Agrawal",
      "userId": "12760872725468885671"
     },
     "user_tz": 240
    },
    "id": "OhatI4mwP7Ml",
    "outputId": "98fbf0c6-72da-4ec4-d598-34826193cb78"
   },
   "outputs": [],
   "source": [
    "## DO NOT CHANGE THIS CELL\n",
    "import numpy as np\n",
    "import gymnasium as gym\n",
    "from gymnasium.envs.toy_text.frozen_lake import FrozenLakeEnv\n",
    "\n",
    "env = typing.cast(FrozenLakeEnv, gym.make(\"FrozenLake-v1\", is_slippery=True))\n",
    "# env.seed(0)"
   ]
  },
  {
   "cell_type": "markdown",
   "metadata": {},
   "source": [
    "## Cartoon Rendering\n",
    "\n",
    "![Frozen-Lake](./Frozen-Gym.png)"
   ]
  },
  {
   "cell_type": "markdown",
   "metadata": {
    "id": "UkH27OGFP7Mm"
   },
   "source": [
    "For proper accounting rewards while you learn, we build a wrapper around env.step() and env.reset(). In an episode, every time you take an action the reward will be appended to the reward of the episode, and when ever the environment is reset (at the end of an epsiode), the episode reward is reset to 0."
   ]
  },
  {
   "cell_type": "code",
   "execution_count": 6,
   "metadata": {
    "colab": {
     "base_uri": "https://localhost:8080/"
    },
    "executionInfo": {
     "elapsed": 642,
     "status": "ok",
     "timestamp": 1697747915624,
     "user": {
      "displayName": "Shipra Agrawal",
      "userId": "12760872725468885671"
     },
     "user_tz": 240
    },
    "id": "ayazVgzdP7Mn",
    "outputId": "94eecb00-a9a1-413b-ac27-396eda378c2d"
   },
   "outputs": [],
   "source": [
    "from functools import wraps\n",
    "\n",
    "## DO NOT CHANGE THIS CELL\n",
    "# wrapper for accounting rewards\n",
    "rEpisode = 0\n",
    "rList = []\n",
    "fixedWindow = 100\n",
    "movingAverage = 0\n",
    "\n",
    "\n",
    "def reset_decorate(func):\n",
    "    @wraps(func)\n",
    "    def func_wrapper(*args, **kwargs):\n",
    "        global rList\n",
    "        global movingAverage\n",
    "        global rEpisode\n",
    "        global fixedWindow\n",
    "        rList.append(rEpisode)\n",
    "        if len(rList) >= fixedWindow:\n",
    "            movingAverage = np.mean(rList[len(rList) - fixedWindow : len(rList) - 1])\n",
    "        rEpisode = 0\n",
    "        return func(*args, **kwargs)\n",
    "\n",
    "    return func_wrapper\n",
    "\n",
    "\n",
    "env.reset = reset_decorate(env.reset)\n",
    "\n",
    "\n",
    "def step_decorate(func):\n",
    "    @wraps(func)\n",
    "    def func_wrapper(*args, **kwargs):\n",
    "        global rEpisode\n",
    "        # Call the original step function and unpack the result\n",
    "        result = func(*args, **kwargs)\n",
    "        if len(result) == 5:\n",
    "            s1, r, d, other, info = result\n",
    "            rEpisode += r\n",
    "            return (s1, r, d, other, info)\n",
    "        else:\n",
    "            raise ValueError(\"Unexpected number of return values from env.step\")\n",
    "\n",
    "    return func_wrapper\n",
    "\n",
    "\n",
    "env.step = step_decorate(env.step)\n",
    "\n",
    "\n",
    "def init():\n",
    "    global rEpisode, rList, movingAverage\n",
    "    rEpisode = 0\n",
    "    rList = []\n",
    "    movingAverage = 0\n",
    "    return"
   ]
  },
  {
   "cell_type": "markdown",
   "metadata": {
    "id": "LXmu5q2ZP7Mo"
   },
   "source": [
    "Below we illustrate the execution of the Open AI gym enviornment using the policy of chosing random action in every state. Every time an action is taken the enviorment returns a tuple containing next state, reward, and the status (whether terminal state is reached or not)."
   ]
  },
  {
   "cell_type": "code",
   "execution_count": 7,
   "metadata": {
    "id": "p21-sTXvP7Mp"
   },
   "outputs": [],
   "source": [
    "### RANDOM SAMPLING EXAMPLE\n",
    "num_episodes = 1000\n",
    "# number of episodes you want to try\n",
    "episode_max_length = 100\n",
    "# you can explicitly end the epsiode before terminal state is reached\n",
    "\n",
    "env.reset()\n",
    "# env.render()\n",
    "# execute in episodes\n",
    "for i in range(num_episodes):\n",
    "\n",
    "    # reset the environment at the beginning of an episode\n",
    "    s = env.reset()\n",
    "    d = False  # not done\n",
    "\n",
    "    for t in range(episode_max_length):\n",
    "\n",
    "        ################ Random action policy ###########################\n",
    "        # play random action\n",
    "        a = env.action_space.sample()\n",
    "        # get new state, reward, done\n",
    "        s, r, d, _, info = env.step(a)\n",
    "        #################################################################\n",
    "\n",
    "        # break if done, reached terminal state\n",
    "        if d == True:\n",
    "            break\n",
    "\n",
    "    # log per-episode reward and moving average over 100 episodes\n",
    "    # wandb.log(\n",
    "    #     {\n",
    "    #         \"random reward\": rEpisode,\n",
    "    #         \"random reward moving average\": movingAverage,\n",
    "    #         \"random episode\": i,\n",
    "    #     }\n",
    "    # )"
   ]
  },
  {
   "cell_type": "markdown",
   "metadata": {
    "id": "l27kPgcBP7Mp"
   },
   "source": [
    "Implement tabular Q-learning (*YOU SHOULD ONLY CHANGE THE CELL BELOW*)"
   ]
  },
  {
   "cell_type": "code",
   "execution_count": 8,
   "metadata": {},
   "outputs": [
    {
     "data": {
      "text/plain": [
       "Ellipsis"
      ]
     },
     "execution_count": 8,
     "metadata": {},
     "output_type": "execute_result"
    }
   ],
   "source": [
    "\"\"\"Action Space\n",
    "The action shape is `(1,)` in the range `{0, 3}` indicating\n",
    "which direction to move the player.\n",
    "\n",
    "- 0: Move left\n",
    "- 1: Move down\n",
    "- 2: Move right\n",
    "- 3: Move up\n",
    "\n",
    "## Observation Space\n",
    "The observation is a value representing the player's current position as\n",
    "`current_row * ncols + current_col` (where both the row and col start at 0).\n",
    "Therefore, the observation is returned as an integer.\n",
    "\n",
    "For example, the goal position in the 4x4 map can be calculated as follows: 3 * 4 + 3 = 15.\n",
    "The number of possible observations is dependent on the size of the map.\n",
    "\n",
    "NOTE ^ this was copied from the class docstring\n",
    "\n",
    ">>> [[ 0  1  2  3]\n",
    " [ 4  5  6  7]\n",
    " [ 8  9 10 11]\n",
    " [12 13 14 15]]\n",
    "\"\"\"\n",
    "\n",
    "..."
   ]
  },
  {
   "cell_type": "code",
   "execution_count": 9,
   "metadata": {},
   "outputs": [],
   "source": [
    "grid_env = typing.cast(FrozenLakeEnv, env.unwrapped)\n",
    "env.observation_space = typing.cast(gym.spaces.Discrete, env.observation_space)\n",
    "env.action_space = typing.cast(gym.spaces.Discrete, env.action_space)\n",
    "state_shift = {0: -1, 1: 4, 2: 1, 3: -4}\n",
    "\n",
    "\n",
    "def check_valid_strict(state: int, action: int) -> bool:\n",
    "    \"\"\"\n",
    "    Check if the action is valid for the given state.\n",
    "    \"\"\"\n",
    "    next_state = state + state_shift[action]\n",
    "    # Check for invalid moves: out of bounds or wrapping around edges\n",
    "    ncols = grid_env.ncol\n",
    "    nrows = grid_env.nrow\n",
    "\n",
    "    # Compute current row and col\n",
    "    row, col = divmod(state, ncols)\n",
    "\n",
    "    # For left, can't move if col == 0\n",
    "    if action == 0 and col == 0:\n",
    "        return False\n",
    "    # For right, can't move if col == ncols - 1\n",
    "    elif action == 2 and col == ncols - 1:\n",
    "        return False\n",
    "    # For up, can't move if row == 0\n",
    "    elif action == 3 and row == 0:\n",
    "        return False\n",
    "    # For down, can't move if row == nrows - 1\n",
    "    elif action == 1 and row == nrows - 1:\n",
    "        return False\n",
    "    # Out of bounds\n",
    "    elif next_state < 0 or next_state >= env.observation_space.n:\n",
    "        return False\n",
    "    return True\n",
    "\n",
    "\n",
    "def check_valid_loose(state: int, action: int) -> bool:\n",
    "    \"\"\"\n",
    "    Check if the action is valid for the given state.\n",
    "    Loose check: only checks for out of bounds, allows wrapping around edges\n",
    "    \"\"\"\n",
    "    next_state = state + state_shift[action]\n",
    "    # Check for invalid moves: out of bounds\n",
    "    if next_state < 0 or next_state >= env.observation_space.n:\n",
    "        return False\n",
    "    return True\n",
    "\n",
    "\n",
    "def inbounds(Q: np.ndarray, state: int) -> bool:\n",
    "    # next_state = state + state_shift[action]\n",
    "    if state < 0 or state >= Q.shape[0]:\n",
    "        return False\n",
    "    return True\n",
    "\n",
    "\n",
    "def smart_q_values(Q: np.ndarray, state: int, clever: bool = False):\n",
    "    \"\"\"\n",
    "    Return the Q-value for a given state and action.\n",
    "    If clever is True, set a negative Q-value for left or up actions that would move the\n",
    "    agent away from the goal\n",
    "    \"\"\"\n",
    "    state_shift = {0: -1, 1: 4, 2: 1, 3: -4}\n",
    "    action_to_word = {0: \"left\", 1: \"down\", 2: \"right\", 3: \"up\"}\n",
    "\n",
    "    q_values = []\n",
    "    for action in state_shift.keys():\n",
    "        if clever and action_to_word[action] in [\"left\", \"up\"]:\n",
    "            \"\"\"early exit if moving away from goal\"\"\"\n",
    "            q_values.append(-np.inf)  # Discourage moving away from the goal\n",
    "\n",
    "        # elif not check_valid_loose(state, action):\n",
    "        #     q_values.append(-np.inf)  # Invalid move\n",
    "        else:\n",
    "            next_state = state + state_shift[action]\n",
    "            max_val = (\n",
    "                np.max(Q[next_state]) if inbounds(Q, next_state) else np.mean(Q[state])\n",
    "            )\n",
    "            q_values.append(max_val)\n",
    "\n",
    "    return np.array(q_values)\n",
    "\n",
    "\n",
    "def e_greedy_mask(action_values: np.ndarray, epsilon: float = 0.4) -> np.ndarray:\n",
    "    \"\"\"\n",
    "    Create an epsilon-greedy mask for action selection.\n",
    "    With probability epsilon, all actions are equally likely.\n",
    "    With probability (1 - epsilon), only the best action is chosen.\n",
    "    If any action_values are -np.inf, set their mask to 0 and renormalize so mask sums to 1.\n",
    "    \"\"\"\n",
    "    valid = action_values > -np.inf\n",
    "    val_count = valid.sum()\n",
    "    probs = np.zeros_like(action_values, dtype=float)\n",
    "    if val_count == 0:\n",
    "        return probs  # all actions invalid\n",
    "\n",
    "    best_idx = np.argmax(action_values)\n",
    "    probs[best_idx] = 1 - epsilon\n",
    "    remaining_prob = epsilon / val_count\n",
    "    probs[valid & (np.arange(len(action_values)) != best_idx)] = remaining_prob\n",
    "    probs = probs / probs.sum()\n",
    "\n",
    "    return probs"
   ]
  },
  {
   "cell_type": "code",
   "execution_count": 10,
   "metadata": {},
   "outputs": [],
   "source": [
    "\"\"\"I'm moving this into its own cell so as to avoid resetting Q and n every time I re-run the training cell.\"\"\"\n",
    "\n",
    "# create Q table\n",
    "Q = np.zeros(\n",
    "    [env.observation_space.n, env.action_space.n]\n",
    ")  # Q(s,a). The Q-values from this array will be used to evaluate your policy.\n",
    "n = np.zeros(\n",
    "    [env.observation_space.n, env.action_space.n], dtype=int\n",
    ")  # recording number of trials for each arm"
   ]
  },
  {
   "cell_type": "code",
   "execution_count": 11,
   "metadata": {
    "id": "AIqgN7tKP7Mq"
   },
   "outputs": [
    {
     "data": {
      "text/html": [],
      "text/plain": [
       "<IPython.core.display.HTML object>"
      ]
     },
     "metadata": {},
     "output_type": "display_data"
    },
    {
     "data": {
      "text/html": [
       "Tracking run with wandb version 0.22.2"
      ],
      "text/plain": [
       "<IPython.core.display.HTML object>"
      ]
     },
     "metadata": {},
     "output_type": "display_data"
    },
    {
     "data": {
      "text/html": [
       "Run data is saved locally in <code>/Users/Akseldkw/coding/Columbia/ORCS4529-Data/wandb/wandb/run-20251015_201920-58v7ro44</code>"
      ],
      "text/plain": [
       "<IPython.core.display.HTML object>"
      ]
     },
     "metadata": {},
     "output_type": "display_data"
    },
    {
     "data": {
      "text/html": [
       "Syncing run <strong><a href='https://wandb.ai/akseldkw07/ORCS4529-Homeworks_HW1_Lab%201/runs/58v7ro44' target=\"_blank\">distinctive-voice-47</a></strong> to <a href='https://wandb.ai/akseldkw07/ORCS4529-Homeworks_HW1_Lab%201' target=\"_blank\">Weights & Biases</a> (<a href='https://wandb.me/developer-guide' target=\"_blank\">docs</a>)<br>"
      ],
      "text/plain": [
       "<IPython.core.display.HTML object>"
      ]
     },
     "metadata": {},
     "output_type": "display_data"
    },
    {
     "data": {
      "text/html": [
       " View project at <a href='https://wandb.ai/akseldkw07/ORCS4529-Homeworks_HW1_Lab%201' target=\"_blank\">https://wandb.ai/akseldkw07/ORCS4529-Homeworks_HW1_Lab%201</a>"
      ],
      "text/plain": [
       "<IPython.core.display.HTML object>"
      ]
     },
     "metadata": {},
     "output_type": "display_data"
    },
    {
     "data": {
      "text/html": [
       " View run at <a href='https://wandb.ai/akseldkw07/ORCS4529-Homeworks_HW1_Lab%201/runs/58v7ro44' target=\"_blank\">https://wandb.ai/akseldkw07/ORCS4529-Homeworks_HW1_Lab%201/runs/58v7ro44</a>"
      ],
      "text/plain": [
       "<IPython.core.display.HTML object>"
      ]
     },
     "metadata": {},
     "output_type": "display_data"
    },
    {
     "name": "stderr",
     "output_type": "stream",
     "text": [
      "100%|██████████| 10000/10000 [00:06<00:00, 1538.29it/s]\n"
     ]
    }
   ],
   "source": [
    "# initialize episodic structure\n",
    "init()\n",
    "# number of training episodes, you can increase this to train more\n",
    "num_episodes = 100 * 100\n",
    "episode_max_length = 100\n",
    "# initialize discount factor, learning rate\n",
    "gamma = 0.97\n",
    "learnRate = 0.8\n",
    "run = wandb.init(dir=wand_db_dir)\n",
    "\n",
    "\n",
    "def print_condition(s: int):\n",
    "    # return s == 1\n",
    "    return False\n",
    "\n",
    "\n",
    "def learnRate_decay(\n",
    "    episode: int, initial_lr: float = 0.8, decay_rate: float = 0.99, min_lr: float = 0.1\n",
    ") -> float:\n",
    "    \"\"\"\n",
    "    Decay the learning rate over episodes.\n",
    "    \"\"\"\n",
    "    return max(min_lr, initial_lr * (decay_rate**episode))\n",
    "\n",
    "\n",
    "# execute in episodes\n",
    "for i in tqdm.tqdm(range(num_episodes)):\n",
    "    # print(\"Episode \", i)\n",
    "    # reset the environment at the beginning of an episode\n",
    "    reset_state = env.reset()\n",
    "    s = reset_state[0]\n",
    "    terminated = False  # not done\n",
    "\n",
    "    for t in range(episode_max_length):\n",
    "\n",
    "        ###########SELCT ACTION a for state s using Q-values ##################\n",
    "        action_values = smart_q_values(Q, s, clever=False)\n",
    "        mask = e_greedy_mask(action_values, epsilon=0.6)\n",
    "        a = env.action_space.sample(probability=mask)\n",
    "\n",
    "        if print_condition(s):\n",
    "            print(f\"State {s} {action_values=} {mask=} {a=}\")\n",
    "\n",
    "        # get new state, reward, done\n",
    "        state, reward, terminated, truncated, info = env.step(a)\n",
    "\n",
    "        ##### update Q(s,a) ############\n",
    "        next_max = float(np.max(Q[state, :]))\n",
    "        td = float(reward) + gamma * next_max - Q[s, a]\n",
    "        if print_condition(s):\n",
    "            print(f\"{s=} {a=} {state=} {reward=} {next_max=} {td=}\")\n",
    "        Q[s, a] = Q[s, a] + learnRate_decay(i) * td\n",
    "        n[s, a] += 1\n",
    "\n",
    "        # break if done, reached terminal state\n",
    "        if terminated:\n",
    "            # print(f\"Terminated {i=} {t=}\")\n",
    "            break\n",
    "\n",
    "        if print_condition(s):\n",
    "            print(\"\\n\")\n",
    "\n",
    "        s = state\n",
    "\n",
    "    # log per-episode reward and moving average over 100 episodes\n",
    "    wandb.log(\n",
    "        {\n",
    "            \"training reward\": rEpisode,\n",
    "            \"training reward moving average\": movingAverage,\n",
    "            \"training episode\": i,\n",
    "        }\n",
    "    )\n",
    "wandb.run = typing.cast(wandb.Run, wandb.run)\n",
    "wandb.run.summary[\"number of training episodes\"] = num_episodes"
   ]
  },
  {
   "cell_type": "code",
   "execution_count": 12,
   "metadata": {},
   "outputs": [],
   "source": [
    "Q_df = pd.DataFrame(Q, columns=[\"left\", \"down\", \"right\", \"up\"])\n",
    "Q_df.index.name = \"state\"\n",
    "n_df = pd.DataFrame(n, columns=[\"left\", \"down\", \"right\", \"up\"])\n",
    "n_df[\"Sum\"] = n_df.sum(axis=1)\n",
    "n_df.index.name = \"state\""
   ]
  },
  {
   "cell_type": "code",
   "execution_count": 13,
   "metadata": {},
   "outputs": [
    {
     "data": {
      "text/plain": [
       "'\\n[[ 0  1  2  3]\\n[ 4  5  6  7]\\n[ 8  9 10 11]\\n[12 13 14 15]]\\n'"
      ]
     },
     "execution_count": 13,
     "metadata": {},
     "output_type": "execute_result"
    }
   ],
   "source": [
    "\"\"\"\n",
    "[[ 0  1  2  3]\n",
    "[ 4  5  6  7]\n",
    "[ 8  9 10 11]\n",
    "[12 13 14 15]]\n",
    "\"\"\""
   ]
  },
  {
   "cell_type": "code",
   "execution_count": 14,
   "metadata": {},
   "outputs": [
    {
     "data": {
      "image/png": "[encoded data removed]",
      "text/plain": [
       "<Figure size 600x600 with 2 Axes>"
      ]
     },
     "execution_count": 14,
     "metadata": {},
     "output_type": "execute_result"
    }
   ],
   "source": [
    "fig, ax = uks_mpl.subplots(1, 1, width_per=6, height_per=6)\n",
    "q_detailed = uks_gym.q_val_viz.q_to_expanded_grid(Q)\n",
    "uks_gym.q_val_viz.expanded_heatmap_with_state_borders(q_detailed, ax)\n",
    "fig"
   ]
  },
  {
   "cell_type": "code",
   "execution_count": 15,
   "metadata": {},
   "outputs": [
    {
     "data": {
      "text/plain": [
       "Text(0.5, 1.0, 'Number of trials per (s,a)')"
      ]
     },
     "execution_count": 15,
     "metadata": {},
     "output_type": "execute_result"
    }
   ],
   "source": [
    "fig, ax = uks_mpl.subplots(2, 1, width_per=4, height_per=4)\n",
    "\n",
    "uks_mpl.heatmap_df(Q_df, ax=ax[0], annot=True, fmt=\".3f\")\n",
    "ax[0].set_title(\"Q-values\")\n",
    "uks_mpl.heatmap_df(n_df, ax=ax[1], annot=True)\n",
    "ax[1].set_title(\"Number of trials per (s,a)\")\n",
    "# fig"
   ]
  },
  {
   "cell_type": "code",
   "execution_count": 16,
   "metadata": {
    "colab": {
     "base_uri": "https://localhost:8080/",
     "height": 441
    },
    "executionInfo": {
     "elapsed": 2611,
     "status": "ok",
     "timestamp": 1697747921280,
     "user": {
      "displayName": "Shipra Agrawal",
      "userId": "12760872725468885671"
     },
     "user_tz": 240
    },
    "id": "OyyIpv_DP7Mr",
    "outputId": "07a3d971-f9f2-4a6b-fc0f-8e7e6d90545b",
    "scrolled": false
   },
   "outputs": [
    {
     "data": {
      "text/html": [
       "<iframe src='https://wandb.ai/akseldkw07/ORCS4529-Homeworks_HW1_Lab%201/runs/58v7ro44?jupyter=true' style='border:none;width:100%;height:420px;'></iframe>"
      ]
     },
     "metadata": {},
     "output_type": "display_data"
    }
   ],
   "source": [
    "%%wandb\n",
    "## DO NOT CHANGE THIS CELL. CHANGING ANY PART OF THIS CELL CAN DISQUALIFY THE SUBMISSION\n",
    "#Evaluation of trained policy\n",
    "init()\n",
    "num_episodes=1000; #number of episodes for evaluation\n",
    "episode_max_length=100\n",
    "movingAverageArray=[]\n",
    "score=0\n",
    "env.reset()\n",
    "for i in range(num_episodes):\n",
    "    reset_state = env.reset()\n",
    "    s = reset_state[0]\n",
    "    d = False #not done\n",
    "    for t in range(episode_max_length):\n",
    "        a = np.argmax(Q[s,:])\n",
    "        s, r, d, _, _ = env.step(a)\n",
    "        if d == True:\n",
    "            break\n",
    "    #log per-episode reward and moving average over 100 episodes\n",
    "    wandb.log({ \"evaluation reward\" : rEpisode, \"evaluation reward moving average\" : movingAverage, \"evaluation episode\" : i})\n",
    "    movingAverageArray.append(movingAverage)\n",
    "    #score is x if there is a window of 100 consecutive episodes where moving average was at least x\n",
    "    if i>100:\n",
    "        score=max(score,min(movingAverageArray[i-100:i-1]))\n",
    "\n",
    "\n",
    "wandb.run.summary[\"score\"]=score"
   ]
  },
  {
   "cell_type": "code",
   "execution_count": 17,
   "metadata": {},
   "outputs": [
    {
     "data": {
      "text/plain": [
       "np.float64(0.7878787878787878)"
      ]
     },
     "execution_count": 17,
     "metadata": {},
     "output_type": "execute_result"
    }
   ],
   "source": [
    "score"
   ]
  },
  {
   "cell_type": "code",
   "execution_count": 18,
   "metadata": {
    "colab": {
     "base_uri": "https://localhost:8080/",
     "height": 711
    },
    "executionInfo": {
     "elapsed": 12122,
     "status": "ok",
     "timestamp": 1697747933399,
     "user": {
      "displayName": "Shipra Agrawal",
      "userId": "12760872725468885671"
     },
     "user_tz": 240
    },
    "id": "qJlAB0bPP7Ms",
    "outputId": "dcf8ac8a-9ba9-4e2d-acec-3b53fac7758c"
   },
   "outputs": [
    {
     "data": {
      "text/html": [],
      "text/plain": [
       "<IPython.core.display.HTML object>"
      ]
     },
     "metadata": {},
     "output_type": "display_data"
    },
    {
     "data": {
      "text/html": [
       "<br>    <style><br>        .wandb-row {<br>            display: flex;<br>            flex-direction: row;<br>            flex-wrap: wrap;<br>            justify-content: flex-start;<br>            width: 100%;<br>        }<br>        .wandb-col {<br>            display: flex;<br>            flex-direction: column;<br>            flex-basis: 100%;<br>            flex: 1;<br>            padding: 10px;<br>        }<br>    </style><br><div class=\"wandb-row\"><div class=\"wandb-col\"><h3>Run history:</h3><br/><table class=\"wandb\"><tr><td>evaluation episode</td><td>▁▁▂▂▂▂▂▂▂▂▂▃▃▃▃▃▃▄▄▄▄▅▅▅▅▅▅▆▆▆▆▇▇▇▇▇▇███</td></tr><tr><td>evaluation reward</td><td>██████▁█▁█▁█▁▁██▁▁█▁█▁█▁██████████▁▁▁█▁█</td></tr><tr><td>evaluation reward moving average</td><td>▁▁▁▁▁▇▇▇▇▇▇▇▇▆▇▇▇▇▇▆▆▇▇▇███▇██▇▇▇█▇▇▇▇▇▇</td></tr><tr><td>training episode</td><td>▁▁▁▂▂▂▂▂▂▂▂▃▃▃▃▃▃▃▃▃▃▄▄▄▄▄▅▆▆▆▆▆▆▆▇▇▇███</td></tr><tr><td>training reward</td><td>▁▁▁█▁▁▁▁▁▁▁▁▁▁▁▁▁▁▁▁▁▁▁▁▁▁▁▁▁▁▁▁▁▁▁▁▁▁▁▁</td></tr><tr><td>training reward moving average</td><td>▄▅▄▇▁▂▅▁▁▁▄▇▄▄▁█▅▂▂▂▄▄▄▄▄▂▄▄▅▅█▅▄▂▂▂▄▅▄▁</td></tr></table><br/></div><div class=\"wandb-col\"><h3>Run summary:</h3><br/><table class=\"wandb\"><tr><td>evaluation episode</td><td>999</td></tr><tr><td>evaluation reward</td><td>1</td></tr><tr><td>evaluation reward moving average</td><td>0.66667</td></tr><tr><td>number of training episodes</td><td>10000</td></tr><tr><td>score</td><td>0.78788</td></tr><tr><td>training episode</td><td>9999</td></tr><tr><td>training reward</td><td>0</td></tr><tr><td>training reward moving average</td><td>0.0303</td></tr></table><br/></div></div>"
      ],
      "text/plain": [
       "<IPython.core.display.HTML object>"
      ]
     },
     "metadata": {},
     "output_type": "display_data"
    },
    {
     "data": {
      "text/html": [
       " View run <strong style=\"color:#cdcd00\">distinctive-voice-47</strong> at: <a href='https://wandb.ai/akseldkw07/ORCS4529-Homeworks_HW1_Lab%201/runs/58v7ro44' target=\"_blank\">https://wandb.ai/akseldkw07/ORCS4529-Homeworks_HW1_Lab%201/runs/58v7ro44</a><br> View project at: <a href='https://wandb.ai/akseldkw07/ORCS4529-Homeworks_HW1_Lab%201' target=\"_blank\">https://wandb.ai/akseldkw07/ORCS4529-Homeworks_HW1_Lab%201</a><br>Synced 5 W&B file(s), 0 media file(s), 0 artifact file(s) and 0 other file(s)"
      ],
      "text/plain": [
       "<IPython.core.display.HTML object>"
      ]
     },
     "metadata": {},
     "output_type": "display_data"
    },
    {
     "data": {
      "text/html": [
       "Find logs at: <code>/Users/Akseldkw/coding/Columbia/ORCS4529-Data/wandb/wandb/run-20251015_201920-58v7ro44/logs</code>"
      ],
      "text/plain": [
       "<IPython.core.display.HTML object>"
      ]
     },
     "metadata": {},
     "output_type": "display_data"
    }
   ],
   "source": [
    "run.finish()"
   ]
  },
  {
   "cell_type": "markdown",
   "metadata": {
    "id": "HSRnO370P7Ms"
   },
   "source": []
  }
 ],
 "metadata": {
  "colab": {
   "provenance": []
  },
  "kernelspec": {
   "display_name": "kret_312",
   "language": "python",
   "name": "python3"
  },
  "language_info": {
   "codemirror_mode": {
    "name": "ipython",
    "version": 3
   },
   "file_extension": ".py",
   "mimetype": "text/x-python",
   "name": "python",
   "nbconvert_exporter": "python",
   "pygments_lexer": "ipython3",
   "version": "3.12.11"
  }
 },
 "nbformat": 4,
 "nbformat_minor": 0
}
