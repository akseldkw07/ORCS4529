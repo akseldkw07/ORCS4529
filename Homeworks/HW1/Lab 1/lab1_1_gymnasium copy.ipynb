{
 "cells": [
  {
   "cell_type": "markdown",
   "metadata": {
    "id": "3aNAcJKSP7Me"
   },
   "source": [
    "# Lab 1: Problem 1 (MDP algorithms: tabular Q-learning)"
   ]
  },
  {
   "cell_type": "markdown",
   "metadata": {
    "id": "OxYtD0ZfP7Mi"
   },
   "source": [
    "*OpenAI gym FrozenLake environment*\n",
    "\n",
    "Winter is here. You and your friends were tossing around a frisbee at the park\n",
    "    when you made a wild throw that left the frisbee out in the middle of the lake.\n",
    "    The water is mostly frozen, but there are a few holes where the ice has melted.\n",
    "    If you step into one of those holes, you'll fall into the freezing water.\n",
    "    At this time, there's an international frisbee shortage, so it's absolutely imperative that\n",
    "    you navigate across the lake and retrieve the disc.\n",
    "    However, the ice is slippery, so you won't always move in the direction you intend.\n",
    "    The surface is described using a grid like the following\n",
    "\n",
    "        SFFF\n",
    "        FHFH\n",
    "        FFFH\n",
    "        HFFG\n",
    "\n",
    "    S : starting point, safe\n",
    "    F : frozen surface, safe\n",
    "    H : hole, fall to your doom\n",
    "    G : goal, where the frisbee is located\n",
    "\n",
    "    The episode ends when you reach the goal or fall in a hole.\n",
    "    You receive a reward of 1 if you reach the goal, and zero otherwise.\n",
    "    \n",
    "FrozenLake-v1 defines \"solving\" as getting average reward of 0.78 over 100 consecutive trials.\n",
    "\n",
    "More documentation: https://www.gymlibrary.dev/environments/toy_text/frozen_lake/\n"
   ]
  },
  {
   "cell_type": "code",
   "execution_count": 1,
   "metadata": {},
   "outputs": [],
   "source": [
    "%reload_ext autoreload\n",
    "%autoreload 2"
   ]
  },
  {
   "cell_type": "code",
   "execution_count": 2,
   "metadata": {},
   "outputs": [
    {
     "name": "stdout",
     "output_type": "stream",
     "text": [
      "Loaded environment variables from /Users/Akseldkw/Desktop/Columbia/ORCS4529/.env.\n",
      "/Users/Akseldkw/coding/kretsinger/data/nb_log.log\n"
     ]
    }
   ],
   "source": [
    "from kret_studies import *\n",
    "from kret_studies.notebook import *\n",
    "from kret_studies.complex import *\n",
    "\n",
    "logger = get_notebook_logger()"
   ]
  },
  {
   "cell_type": "code",
   "execution_count": 3,
   "metadata": {},
   "outputs": [],
   "source": [
    "env_vars = os.environ.copy()\n",
    "wand_db_dir = env_vars[\"OUTPUT_DIR\"] + \"/wandb\""
   ]
  },
  {
   "cell_type": "code",
   "execution_count": 4,
   "metadata": {
    "colab": {
     "base_uri": "https://localhost:8080/",
     "height": 312
    },
    "executionInfo": {
     "elapsed": 51658,
     "status": "ok",
     "timestamp": 1697747913852,
     "user": {
      "displayName": "Shipra Agrawal",
      "userId": "12760872725468885671"
     },
     "user_tz": 240
    },
    "id": "Hi-GbKIMP7Mk",
    "outputId": "a98cf515-3ad9-4ca2-f320-4e9277eb6bd6"
   },
   "outputs": [
    {
     "name": "stderr",
     "output_type": "stream",
     "text": [
      "\u001b[34m\u001b[1mwandb\u001b[0m: Currently logged in as: \u001b[33makseldkw\u001b[0m (\u001b[33makseldkw07\u001b[0m) to \u001b[32mhttps://api.wandb.ai\u001b[0m. Use \u001b[1m`wandb login --relogin`\u001b[0m to force relogin\n"
     ]
    },
    {
     "data": {
      "text/html": [],
      "text/plain": [
       "<IPython.core.display.HTML object>"
      ]
     },
     "metadata": {},
     "output_type": "display_data"
    },
    {
     "data": {
      "text/html": [
       "Tracking run with wandb version 0.22.2"
      ],
      "text/plain": [
       "<IPython.core.display.HTML object>"
      ]
     },
     "metadata": {},
     "output_type": "display_data"
    },
    {
     "data": {
      "text/html": [
       "Run data is saved locally in <code>/Users/Akseldkw/coding/Columbia/ORCS4529-Data/wandb/wandb/run-20251009_001025-twj9o5v3</code>"
      ],
      "text/plain": [
       "<IPython.core.display.HTML object>"
      ]
     },
     "metadata": {},
     "output_type": "display_data"
    },
    {
     "data": {
      "text/html": [
       "Syncing run <strong><a href='https://wandb.ai/akseldkw07/ORCS4529-Homeworks_HW1_Lab%201/runs/twj9o5v3' target=\"_blank\">usual-dawn-20</a></strong> to <a href='https://wandb.ai/akseldkw07/ORCS4529-Homeworks_HW1_Lab%201' target=\"_blank\">Weights & Biases</a> (<a href='https://wandb.me/developer-guide' target=\"_blank\">docs</a>)<br>"
      ],
      "text/plain": [
       "<IPython.core.display.HTML object>"
      ]
     },
     "metadata": {},
     "output_type": "display_data"
    },
    {
     "data": {
      "text/html": [
       " View project at <a href='https://wandb.ai/akseldkw07/ORCS4529-Homeworks_HW1_Lab%201' target=\"_blank\">https://wandb.ai/akseldkw07/ORCS4529-Homeworks_HW1_Lab%201</a>"
      ],
      "text/plain": [
       "<IPython.core.display.HTML object>"
      ]
     },
     "metadata": {},
     "output_type": "display_data"
    },
    {
     "data": {
      "text/html": [
       " View run at <a href='https://wandb.ai/akseldkw07/ORCS4529-Homeworks_HW1_Lab%201/runs/twj9o5v3' target=\"_blank\">https://wandb.ai/akseldkw07/ORCS4529-Homeworks_HW1_Lab%201/runs/twj9o5v3</a>"
      ],
      "text/plain": [
       "<IPython.core.display.HTML object>"
      ]
     },
     "metadata": {},
     "output_type": "display_data"
    }
   ],
   "source": [
    "# wandb set up for logging runs online and moving them to the leaderboard\n",
    "# create a wandb account when prompted, or simply sign in if you already have an account\n",
    "# !pip install wandb -qqq\n",
    "import wandb\n",
    "\n",
    "wandb.login()\n",
    "run = wandb.init(dir=wand_db_dir)"
   ]
  },
  {
   "cell_type": "code",
   "execution_count": 5,
   "metadata": {
    "colab": {
     "base_uri": "https://localhost:8080/"
    },
    "executionInfo": {
     "elapsed": 1142,
     "status": "ok",
     "timestamp": 1697747914987,
     "user": {
      "displayName": "Shipra Agrawal",
      "userId": "12760872725468885671"
     },
     "user_tz": 240
    },
    "id": "OhatI4mwP7Ml",
    "outputId": "98fbf0c6-72da-4ec4-d598-34826193cb78"
   },
   "outputs": [],
   "source": [
    "## DO NOT CHANGE THIS CELL\n",
    "import numpy as np\n",
    "import gymnasium as gym\n",
    "from gymnasium.envs.toy_text.frozen_lake import FrozenLakeEnv\n",
    "\n",
    "env = typing.cast(FrozenLakeEnv, gym.make(\"FrozenLake-v1\"))\n",
    "# env.seed(0)"
   ]
  },
  {
   "cell_type": "markdown",
   "metadata": {},
   "source": [
    "## Cartoon Rendering\n",
    "\n",
    "![Frozen-Lake](./Frozen-Gym.png)"
   ]
  },
  {
   "cell_type": "markdown",
   "metadata": {
    "id": "UkH27OGFP7Mm"
   },
   "source": [
    "For proper accounting rewards while you learn, we build a wrapper around env.step() and env.reset(). In an episode, every time you take an action the reward will be appended to the reward of the episode, and when ever the environment is reset (at the end of an epsiode), the episode reward is reset to 0."
   ]
  },
  {
   "cell_type": "code",
   "execution_count": 6,
   "metadata": {
    "colab": {
     "base_uri": "https://localhost:8080/"
    },
    "executionInfo": {
     "elapsed": 642,
     "status": "ok",
     "timestamp": 1697747915624,
     "user": {
      "displayName": "Shipra Agrawal",
      "userId": "12760872725468885671"
     },
     "user_tz": 240
    },
    "id": "ayazVgzdP7Mn",
    "outputId": "94eecb00-a9a1-413b-ac27-396eda378c2d"
   },
   "outputs": [],
   "source": [
    "from functools import wraps\n",
    "\n",
    "## DO NOT CHANGE THIS CELL\n",
    "# wrapper for accounting rewards\n",
    "rEpisode = 0\n",
    "rList = []\n",
    "fixedWindow = 100\n",
    "movingAverage = 0\n",
    "\n",
    "\n",
    "def reset_decorate(func):\n",
    "    @wraps(func)\n",
    "    def func_wrapper(*args, **kwargs):\n",
    "        global rList\n",
    "        global movingAverage\n",
    "        global rEpisode\n",
    "        global fixedWindow\n",
    "        rList.append(rEpisode)\n",
    "        if len(rList) >= fixedWindow:\n",
    "            movingAverage = np.mean(rList[len(rList) - fixedWindow : len(rList) - 1])\n",
    "        rEpisode = 0\n",
    "        return func(*args, **kwargs)\n",
    "\n",
    "    return func_wrapper\n",
    "\n",
    "\n",
    "env.reset = reset_decorate(env.reset)\n",
    "\n",
    "\n",
    "def step_decorate(func):\n",
    "    @wraps(func)\n",
    "    def func_wrapper(*args, **kwargs):\n",
    "        global rEpisode\n",
    "        # Call the original step function and unpack the result\n",
    "        result = func(*args, **kwargs)\n",
    "        if len(result) == 5:\n",
    "            s1, r, d, other, info = result\n",
    "            rEpisode += r\n",
    "            return (s1, r, d, other, info)\n",
    "        else:\n",
    "            raise ValueError(\"Unexpected number of return values from env.step\")\n",
    "\n",
    "    return func_wrapper\n",
    "\n",
    "\n",
    "env.step = step_decorate(env.step)\n",
    "\n",
    "\n",
    "def init():\n",
    "    global rEpisode, rList, movingAverage\n",
    "    rEpisode = 0\n",
    "    rList = []\n",
    "    movingAverage = 0\n",
    "    return"
   ]
  },
  {
   "cell_type": "markdown",
   "metadata": {
    "id": "LXmu5q2ZP7Mo"
   },
   "source": [
    "Below we illustrate the execution of the Open AI gym enviornment using the policy of chosing random action in every state. Every time an action is taken the enviorment returns a tuple containing next state, reward, and the status (whether terminal state is reached or not)."
   ]
  },
  {
   "cell_type": "code",
   "execution_count": 7,
   "metadata": {
    "id": "p21-sTXvP7Mp"
   },
   "outputs": [],
   "source": [
    "### RANDOM SAMPLING EXAMPLE\n",
    "num_episodes = 1000\n",
    "# number of episodes you want to try\n",
    "episode_max_length = 100\n",
    "# you can explicitly end the epsiode before terminal state is reached\n",
    "\n",
    "env.reset()\n",
    "# env.render()\n",
    "# execute in episodes\n",
    "for i in range(num_episodes):\n",
    "\n",
    "    # reset the environment at the beginning of an episode\n",
    "    s = env.reset()\n",
    "    d = False  # not done\n",
    "\n",
    "    for t in range(episode_max_length):\n",
    "\n",
    "        ################ Random action policy ###########################\n",
    "        # play random action\n",
    "        a = env.action_space.sample()\n",
    "        # get new state, reward, done\n",
    "        s, r, d, _, info = env.step(a)\n",
    "        #################################################################\n",
    "\n",
    "        # break if done, reached terminal state\n",
    "        if d == True:\n",
    "            break\n",
    "\n",
    "    # log per-episode reward and moving average over 100 episodes\n",
    "    wandb.log(\n",
    "        {\n",
    "            \"random reward\": rEpisode,\n",
    "            \"random reward moving average\": movingAverage,\n",
    "            \"random episode\": i,\n",
    "        }\n",
    "    )"
   ]
  },
  {
   "cell_type": "markdown",
   "metadata": {
    "id": "l27kPgcBP7Mp"
   },
   "source": [
    "Implement tabular Q-learning (*YOU SHOULD ONLY CHANGE THE CELL BELOW*)"
   ]
  },
  {
   "cell_type": "code",
   "execution_count": 8,
   "metadata": {},
   "outputs": [],
   "source": [
    "# def render_safe(mode:typing.Literal['human', 'rgb_array', 'ansii'] = 'human'):\n",
    "#     env.render_mode = mode\n",
    "#     env.render()\n",
    "#     env.render_mode = None\n",
    "# render_safe()"
   ]
  },
  {
   "cell_type": "code",
   "execution_count": null,
   "metadata": {},
   "outputs": [],
   "source": [
    "\"\"\"## Action Space\n",
    "The action shape is `(1,)` in the range `{0, 3}` indicating\n",
    "which direction to move the player.\n",
    "\n",
    "- 0: Move left\n",
    "- 1: Move down\n",
    "- 2: Move right\n",
    "- 3: Move up\n",
    "\n",
    "## Observation Space\n",
    "The observation is a value representing the player's current position as\n",
    "`current_row * ncols + current_col` (where both the row and col start at 0).\n",
    "Therefore, the observation is returned as an integer.\n",
    "\n",
    "For example, the goal position in the 4x4 map can be calculated as follows: 3 * 4 + 3 = 15.\n",
    "The number of possible observations is dependent on the size of the map.\n",
    "\"\"\""
   ]
  },
  {
   "cell_type": "code",
   "execution_count": null,
   "metadata": {
    "id": "AIqgN7tKP7Mq"
   },
   "outputs": [
    {
     "name": "stdout",
     "output_type": "stream",
     "text": [
      "Episode  0\n",
      "State 0 Action 2\n",
      "State 0 Action 0\n",
      "State 4 Action 2\n",
      "Terminated i=0 t=2 \n"
     ]
    }
   ],
   "source": [
    "# initialize episodic structure\n",
    "\n",
    "init()\n",
    "num_episodes = 1\n",
    "# number of training episodes, you can increase this to train more\n",
    "episode_max_length = 100\n",
    "# initialize discount factor, learning rate\n",
    "gamma = 0.95\n",
    "learnRate = 0.8\n",
    "\n",
    "env.observation_space = typing.cast(gym.spaces.Discrete, env.observation_space)\n",
    "env.action_space = typing.cast(gym.spaces.Discrete, env.action_space)\n",
    "grid_env = typing.cast(FrozenLakeEnv, env.unwrapped)\n",
    "nrows, ncols = grid_env.nrow, grid_env.ncol\n",
    "# env.env = typing.cast(FrozenLakeEnv, env.env)\n",
    "# create Q table\n",
    "Q = np.zeros(\n",
    "    [env.observation_space.n, env.action_space.n]\n",
    ")  # Q(s,a). The Q-values from this array will be used to evaluate your policy.\n",
    "n = np.zeros(\n",
    "    [env.observation_space.n, env.action_space.n]\n",
    ")  # recording number of trails for each arm\n",
    "\n",
    "def available_actions(state: int) -> list[int]:\n",
    "    \"\"\"Return action indices that keep the agent inside the board.\"\"\"\n",
    "    row, col = divmod(state, ncols)  # state == row * ncols + col\n",
    "    actions: list[int] = []\n",
    "    if col > 0:\n",
    "        actions.append(0)  # left\n",
    "    if row < nrows - 1:\n",
    "        actions.append(1)  # down\n",
    "    if col < ncols - 1:\n",
    "        actions.append(2)  # right\n",
    "    if row > 0:\n",
    "        actions.append(3)  # up\n",
    "    return actions\n",
    "\n",
    "# execute in episodes\n",
    "for i in range(num_episodes):\n",
    "    print(\"Episode \", i)\n",
    "    # reset the environment at the beginning of an episode\n",
    "    reset_state = env.reset()\n",
    "    s = reset_state[0]\n",
    "    terminated = False  # not done\n",
    "\n",
    "    for t in range(episode_max_length):\n",
    "\n",
    "        ###########SELCT ACTION a for state s using Q-values ##################\n",
    "        valid_actions = available_actions(s)\n",
    "        if not valid_actions:\n",
    "            raise ValueError(f\"No available actions for state {s}\")\n",
    "        # pick uniformly at random among the valid moves\n",
    "        a = int(np.random.choice(valid_actions))\n",
    "        print(f\"State {s} Action {a}\")\n",
    "        # currently selecting a random action, change this TODO\n",
    "\n",
    "        # get new state, reward, done\n",
    "        state, reward, terminated, truncated, info = env.step(a)\n",
    "\n",
    "        ##### update Q(s,a) ############\n",
    "        if terminated:\n",
    "            next_max = 0.0\n",
    "        else:\n",
    "            next_actions = available_actions(state)\n",
    "            next_max = float(np.max(Q[state, next_actions])) if next_actions else 0.0\n",
    "        td = float(reward) + gamma * next_max - Q[s, a]\n",
    "        Q[s, a] = Q[s, a] + learnRate * td\n",
    "        n[s, a] += 1\n",
    "\n",
    "        # break if done, reached terminal state\n",
    "        if terminated == True:\n",
    "            print(f\"Terminated {i=} {t=}\")\n",
    "            break\n",
    "        s = state\n",
    "\n",
    "    # log per-episode reward and moving average over 100 episodes\n",
    "    wandb.log(\n",
    "        {\n",
    "            \"training reward\": rEpisode,\n",
    "            \"training reward moving average\": movingAverage,\n",
    "            \"training episode\": i,\n",
    "        }\n",
    "    )\n",
    "wandb.run = typing.cast(wandb.Run, wandb.run)\n",
    "wandb.run.summary[\"number of training episodes\"] = num_episodes\n"
   ]
  },
  {
   "cell_type": "code",
   "execution_count": 12,
   "metadata": {},
   "outputs": [
    {
     "data": {
      "text/plain": [
       "(0, {'prob': 1})"
      ]
     },
     "execution_count": 12,
     "metadata": {},
     "output_type": "execute_result"
    }
   ],
   "source": [
    "reset_state"
   ]
  },
  {
   "cell_type": "code",
   "execution_count": 10,
   "metadata": {},
   "outputs": [
    {
     "data": {
      "text/plain": [
       "{'prob': 0.33333333333333337}"
      ]
     },
     "execution_count": 10,
     "metadata": {},
     "output_type": "execute_result"
    }
   ],
   "source": [
    "info"
   ]
  },
  {
   "cell_type": "code",
   "execution_count": null,
   "metadata": {},
   "outputs": [
    {
     "data": {
      "text/plain": [
       "([0], 0)"
      ]
     },
     "execution_count": 14,
     "metadata": {},
     "output_type": "execute_result"
    }
   ],
   "source": [
    "rList, rEpisode"
   ]
  },
  {
   "cell_type": "code",
   "execution_count": null,
   "metadata": {},
   "outputs": [
    {
     "data": {
      "text/html": [
       "<div style=\"display:inline-block; vertical-align:top; margin-right:10px\"><h3>Q-values</h3><table border=\"1\" class=\"dataframe\">\n",
       "  <thead>\n",
       "    <tr style=\"text-align: right;\">\n",
       "      <th></th>\n",
       "      <th>0</th>\n",
       "      <th>1</th>\n",
       "      <th>2</th>\n",
       "      <th>3</th>\n",
       "    </tr>\n",
       "  </thead>\n",
       "  <tbody>\n",
       "    <tr>\n",
       "      <th>0</th>\n",
       "      <td>0.0</td>\n",
       "      <td>0.0</td>\n",
       "      <td>0.0</td>\n",
       "      <td>0.0</td>\n",
       "    </tr>\n",
       "    <tr>\n",
       "      <th>1</th>\n",
       "      <td>0.0</td>\n",
       "      <td>0.0</td>\n",
       "      <td>0.0</td>\n",
       "      <td>0.0</td>\n",
       "    </tr>\n",
       "    <tr>\n",
       "      <th>2</th>\n",
       "      <td>0.0</td>\n",
       "      <td>0.0</td>\n",
       "      <td>0.0</td>\n",
       "      <td>0.0</td>\n",
       "    </tr>\n",
       "    <tr>\n",
       "      <th>3</th>\n",
       "      <td>0.0</td>\n",
       "      <td>0.0</td>\n",
       "      <td>0.0</td>\n",
       "      <td>0.0</td>\n",
       "    </tr>\n",
       "    <tr>\n",
       "      <th>4</th>\n",
       "      <td>0.0</td>\n",
       "      <td>0.0</td>\n",
       "      <td>0.0</td>\n",
       "      <td>0.0</td>\n",
       "    </tr>\n",
       "    <tr>\n",
       "      <th>5</th>\n",
       "      <td>0.0</td>\n",
       "      <td>0.0</td>\n",
       "      <td>0.0</td>\n",
       "      <td>0.0</td>\n",
       "    </tr>\n",
       "    <tr>\n",
       "      <th>6</th>\n",
       "      <td>0.0</td>\n",
       "      <td>0.0</td>\n",
       "      <td>0.0</td>\n",
       "      <td>0.0</td>\n",
       "    </tr>\n",
       "    <tr>\n",
       "      <th>7</th>\n",
       "      <td>0.0</td>\n",
       "      <td>0.0</td>\n",
       "      <td>0.0</td>\n",
       "      <td>0.0</td>\n",
       "    </tr>\n",
       "    <tr>\n",
       "      <th>8</th>\n",
       "      <td>0.0</td>\n",
       "      <td>0.0</td>\n",
       "      <td>0.0</td>\n",
       "      <td>0.0</td>\n",
       "    </tr>\n",
       "    <tr>\n",
       "      <th>9</th>\n",
       "      <td>0.0</td>\n",
       "      <td>0.0</td>\n",
       "      <td>0.0</td>\n",
       "      <td>0.0</td>\n",
       "    </tr>\n",
       "    <tr>\n",
       "      <th>10</th>\n",
       "      <td>0.0</td>\n",
       "      <td>0.0</td>\n",
       "      <td>0.0</td>\n",
       "      <td>0.0</td>\n",
       "    </tr>\n",
       "    <tr>\n",
       "      <th>11</th>\n",
       "      <td>0.0</td>\n",
       "      <td>0.0</td>\n",
       "      <td>0.0</td>\n",
       "      <td>0.0</td>\n",
       "    </tr>\n",
       "    <tr>\n",
       "      <th>12</th>\n",
       "      <td>0.0</td>\n",
       "      <td>0.0</td>\n",
       "      <td>0.0</td>\n",
       "      <td>0.0</td>\n",
       "    </tr>\n",
       "    <tr>\n",
       "      <th>13</th>\n",
       "      <td>0.0</td>\n",
       "      <td>0.0</td>\n",
       "      <td>0.0</td>\n",
       "      <td>0.0</td>\n",
       "    </tr>\n",
       "    <tr>\n",
       "      <th>14</th>\n",
       "      <td>0.0</td>\n",
       "      <td>0.0</td>\n",
       "      <td>0.0</td>\n",
       "      <td>0.0</td>\n",
       "    </tr>\n",
       "    <tr>\n",
       "      <th>15</th>\n",
       "      <td>0.0</td>\n",
       "      <td>0.0</td>\n",
       "      <td>0.0</td>\n",
       "      <td>0.0</td>\n",
       "    </tr>\n",
       "  </tbody>\n",
       "</table></div><div style=\"display:inline-block; vertical-align:top; margin-right:10px\"><h3>Number of trials per (s,a)</h3><table border=\"1\" class=\"dataframe\">\n",
       "  <thead>\n",
       "    <tr style=\"text-align: right;\">\n",
       "      <th></th>\n",
       "      <th>0</th>\n",
       "      <th>1</th>\n",
       "      <th>2</th>\n",
       "      <th>3</th>\n",
       "    </tr>\n",
       "  </thead>\n",
       "  <tbody>\n",
       "    <tr>\n",
       "      <th>0</th>\n",
       "      <td>0.0</td>\n",
       "      <td>0.0</td>\n",
       "      <td>0.0</td>\n",
       "      <td>0.0</td>\n",
       "    </tr>\n",
       "    <tr>\n",
       "      <th>1</th>\n",
       "      <td>0.0</td>\n",
       "      <td>0.0</td>\n",
       "      <td>0.0</td>\n",
       "      <td>0.0</td>\n",
       "    </tr>\n",
       "    <tr>\n",
       "      <th>2</th>\n",
       "      <td>0.0</td>\n",
       "      <td>0.0</td>\n",
       "      <td>0.0</td>\n",
       "      <td>0.0</td>\n",
       "    </tr>\n",
       "    <tr>\n",
       "      <th>3</th>\n",
       "      <td>0.0</td>\n",
       "      <td>0.0</td>\n",
       "      <td>0.0</td>\n",
       "      <td>0.0</td>\n",
       "    </tr>\n",
       "    <tr>\n",
       "      <th>4</th>\n",
       "      <td>0.0</td>\n",
       "      <td>0.0</td>\n",
       "      <td>0.0</td>\n",
       "      <td>0.0</td>\n",
       "    </tr>\n",
       "    <tr>\n",
       "      <th>5</th>\n",
       "      <td>0.0</td>\n",
       "      <td>0.0</td>\n",
       "      <td>0.0</td>\n",
       "      <td>0.0</td>\n",
       "    </tr>\n",
       "    <tr>\n",
       "      <th>6</th>\n",
       "      <td>0.0</td>\n",
       "      <td>0.0</td>\n",
       "      <td>0.0</td>\n",
       "      <td>0.0</td>\n",
       "    </tr>\n",
       "    <tr>\n",
       "      <th>7</th>\n",
       "      <td>0.0</td>\n",
       "      <td>0.0</td>\n",
       "      <td>0.0</td>\n",
       "      <td>0.0</td>\n",
       "    </tr>\n",
       "    <tr>\n",
       "      <th>8</th>\n",
       "      <td>0.0</td>\n",
       "      <td>0.0</td>\n",
       "      <td>0.0</td>\n",
       "      <td>0.0</td>\n",
       "    </tr>\n",
       "    <tr>\n",
       "      <th>9</th>\n",
       "      <td>0.0</td>\n",
       "      <td>0.0</td>\n",
       "      <td>0.0</td>\n",
       "      <td>0.0</td>\n",
       "    </tr>\n",
       "    <tr>\n",
       "      <th>10</th>\n",
       "      <td>0.0</td>\n",
       "      <td>0.0</td>\n",
       "      <td>0.0</td>\n",
       "      <td>0.0</td>\n",
       "    </tr>\n",
       "    <tr>\n",
       "      <th>11</th>\n",
       "      <td>0.0</td>\n",
       "      <td>0.0</td>\n",
       "      <td>0.0</td>\n",
       "      <td>0.0</td>\n",
       "    </tr>\n",
       "    <tr>\n",
       "      <th>12</th>\n",
       "      <td>0.0</td>\n",
       "      <td>0.0</td>\n",
       "      <td>0.0</td>\n",
       "      <td>0.0</td>\n",
       "    </tr>\n",
       "    <tr>\n",
       "      <th>13</th>\n",
       "      <td>0.0</td>\n",
       "      <td>0.0</td>\n",
       "      <td>0.0</td>\n",
       "      <td>0.0</td>\n",
       "    </tr>\n",
       "    <tr>\n",
       "      <th>14</th>\n",
       "      <td>0.0</td>\n",
       "      <td>0.0</td>\n",
       "      <td>0.0</td>\n",
       "      <td>0.0</td>\n",
       "    </tr>\n",
       "    <tr>\n",
       "      <th>15</th>\n",
       "      <td>0.0</td>\n",
       "      <td>0.0</td>\n",
       "      <td>0.0</td>\n",
       "      <td>0.0</td>\n",
       "    </tr>\n",
       "  </tbody>\n",
       "</table></div>"
      ]
     },
     "metadata": {},
     "output_type": "display_data"
    }
   ],
   "source": [
    "dtt(Q, n, names=[\"Q-values\", \"Number of trials per (s,a)\"])"
   ]
  },
  {
   "cell_type": "code",
   "execution_count": null,
   "metadata": {},
   "outputs": [
    {
     "data": {
      "text/plain": [
       "gymnasium.spaces.discrete.Discrete"
      ]
     },
     "execution_count": 14,
     "metadata": {},
     "output_type": "execute_result"
    }
   ],
   "source": [
    "type(env.action_space)"
   ]
  },
  {
   "cell_type": "code",
   "execution_count": null,
   "metadata": {
    "colab": {
     "base_uri": "https://localhost:8080/",
     "height": 441
    },
    "executionInfo": {
     "elapsed": 2611,
     "status": "ok",
     "timestamp": 1697747921280,
     "user": {
      "displayName": "Shipra Agrawal",
      "userId": "12760872725468885671"
     },
     "user_tz": 240
    },
    "id": "OyyIpv_DP7Mr",
    "outputId": "07a3d971-f9f2-4a6b-fc0f-8e7e6d90545b",
    "scrolled": false
   },
   "outputs": [
    {
     "data": {
      "text/html": [
       "<iframe src='https://wandb.ai/akseldkw07/ORCS4529-Homeworks_HW1_Lab%201/runs/i9ykm8eb?jupyter=true' style='border:none;width:100%;height:420px;'></iframe>"
      ]
     },
     "metadata": {},
     "output_type": "display_data"
    },
    {
     "ename": "IndexError",
     "evalue": "only integers, slices (`:`), ellipsis (`...`), numpy.newaxis (`None`) and integer or boolean arrays are valid indices",
     "output_type": "error",
     "traceback": [
      "\u001b[31m---------------------------------------------------------------------------\u001b[39m",
      "\u001b[31mIndexError\u001b[39m                                Traceback (most recent call last)",
      "\u001b[36mCell\u001b[39m\u001b[36m \u001b[39m\u001b[32mIn[9]\u001b[39m\u001b[32m, line 13\u001b[39m\n\u001b[32m     11\u001b[39m d = \u001b[38;5;28;01mFalse\u001b[39;00m \u001b[38;5;66;03m#not done\u001b[39;00m\n\u001b[32m     12\u001b[39m \u001b[38;5;28;01mfor\u001b[39;00m t \u001b[38;5;129;01min\u001b[39;00m \u001b[38;5;28mrange\u001b[39m(episode_max_length):\n\u001b[32m---> \u001b[39m\u001b[32m13\u001b[39m     a = np.argmax(\u001b[43mQ\u001b[49m\u001b[43m[\u001b[49m\u001b[43ms\u001b[49m\u001b[43m,\u001b[49m\u001b[43m:\u001b[49m\u001b[43m]\u001b[49m)\n\u001b[32m     14\u001b[39m     s, r, d, _ = env.step(a)\n\u001b[32m     15\u001b[39m     \u001b[38;5;28;01mif\u001b[39;00m d == \u001b[38;5;28;01mTrue\u001b[39;00m:\n",
      "\u001b[31mIndexError\u001b[39m: only integers, slices (`:`), ellipsis (`...`), numpy.newaxis (`None`) and integer or boolean arrays are valid indices"
     ]
    }
   ],
   "source": [
    "%%wandb\n",
    "## DO NOT CHANGE THIS CELL. CHANGING ANY PART OF THIS CELL CAN DISQUALIFY THE SUBMISSION\n",
    "#Evaluation of trained policy\n",
    "init()\n",
    "num_episodes=1000; #number of episodes for evaluation\n",
    "episode_max_length=100\n",
    "movingAverageArray=[]\n",
    "score=0\n",
    "env.reset()\n",
    "for i in range(num_episodes):\n",
    "    s = env.reset()\n",
    "    d = False #not done\n",
    "    for t in range(episode_max_length):\n",
    "        a = np.argmax(Q[s,:])\n",
    "        s, r, d, _ = env.step(a)\n",
    "        if d == True:\n",
    "            break\n",
    "    #log per-episode reward and moving average over 100 episodes\n",
    "    wandb.log({ \"evaluation reward\" : rEpisode, \"evaluation reward moving average\" : movingAverage, \"evaluation episode\" : i})\n",
    "    movingAverageArray.append(movingAverage)\n",
    "    #score is x if there is a window of 100 consecutive episodes where moving average was at least x\n",
    "    if i>100:\n",
    "        score=max(score,min(movingAverageArray[i-100:i-1]))\n",
    "\n",
    "\n",
    "wandb.run.summary[\"score\"]=score"
   ]
  },
  {
   "cell_type": "code",
   "execution_count": null,
   "metadata": {
    "colab": {
     "base_uri": "https://localhost:8080/",
     "height": 711
    },
    "executionInfo": {
     "elapsed": 12122,
     "status": "ok",
     "timestamp": 1697747933399,
     "user": {
      "displayName": "Shipra Agrawal",
      "userId": "12760872725468885671"
     },
     "user_tz": 240
    },
    "id": "qJlAB0bPP7Ms",
    "outputId": "dcf8ac8a-9ba9-4e2d-acec-3b53fac7758c"
   },
   "outputs": [
    {
     "data": {
      "text/html": [],
      "text/plain": [
       "<IPython.core.display.HTML object>"
      ]
     },
     "metadata": {},
     "output_type": "display_data"
    },
    {
     "data": {
      "text/html": [
       "<br>    <style><br>        .wandb-row {<br>            display: flex;<br>            flex-direction: row;<br>            flex-wrap: wrap;<br>            justify-content: flex-start;<br>            width: 100%;<br>        }<br>        .wandb-col {<br>            display: flex;<br>            flex-direction: column;<br>            flex-basis: 100%;<br>            flex: 1;<br>            padding: 10px;<br>        }<br>    </style><br><div class=\"wandb-row\"><div class=\"wandb-col\"><h3>Run history:</h3><br/><table class=\"wandb\"><tr><td>random episode</td><td>\u2581\u2581\u2581\u2581\u2582\u2582\u2582\u2582\u2583\u2583\u2583\u2583\u2583\u2583\u2583\u2584\u2584\u2584\u2584\u2585\u2585\u2585\u2585\u2586\u2586\u2586\u2586\u2586\u2586\u2587\u2587\u2587\u2587\u2587\u2587\u2587\u2588\u2588\u2588\u2588</td></tr><tr><td>random reward</td><td>\u2581\u2581\u2581\u2581\u2581\u2581\u2581\u2581\u2581\u2581\u2581\u2581\u2581\u2581\u2588\u2581\u2581\u2581\u2581\u2581\u2581\u2581\u2581\u2581\u2581\u2581\u2581\u2581\u2581\u2581\u2588\u2581\u2581\u2581\u2581\u2581\u2581\u2581\u2581\u2581</td></tr><tr><td>random reward moving average</td><td>\u2581\u2581\u2581\u2581\u2581\u2583\u2585\u2585\u2583\u2583\u2583\u2583\u2583\u2583\u2583\u2581\u2581\u2581\u2581\u2585\u2585\u2586\u2588\u2585\u2585\u2583\u2581\u2581\u2581\u2581\u2588\u2588\u2588\u2588\u2588\u2583\u2583\u2583\u2583\u2583</td></tr><tr><td>training episode</td><td>\u2581\u2581\u2581\u2581\u2581\u2582\u2582\u2582\u2582\u2582\u2582\u2582\u2583\u2583\u2583\u2584\u2584\u2584\u2584\u2584\u2584\u2584\u2584\u2585\u2585\u2585\u2586\u2586\u2586\u2586\u2586\u2586\u2586\u2586\u2587\u2587\u2588\u2588\u2588\u2588</td></tr><tr><td>training reward</td><td>\u2581\u2581\u2581\u2581\u2581\u2581\u2581\u2581\u2581\u2581\u2581\u2581\u2581\u2581\u2581\u2581\u2581\u2581\u2581\u2581\u2581\u2581\u2581\u2581\u2581\u2581\u2581\u2581\u2581\u2581\u2581\u2581\u2581\u2581\u2581\u2581\u2581\u2581\u2581\u2581</td></tr><tr><td>training reward moving average</td><td>\u2583\u2583\u2583\u2581\u2581\u2581\u2583\u2583\u2586\u2588\u2588\u2588\u2586\u2586\u2586\u2586\u2586\u2586\u2583\u2583\u2583\u2581\u2581\u2581\u2581\u2583\u2583\u2586\u2583\u2583\u2583\u2583\u2586\u2586\u2586\u2586\u2586\u2586\u2583\u2581</td></tr></table><br/></div><div class=\"wandb-col\"><h3>Run summary:</h3><br/><table class=\"wandb\"><tr><td>number of training episodes</td><td>1000</td></tr><tr><td>random episode</td><td>999</td></tr><tr><td>random reward</td><td>0</td></tr><tr><td>random reward moving average</td><td>0.0101</td></tr><tr><td>training episode</td><td>999</td></tr><tr><td>training reward</td><td>0</td></tr><tr><td>training reward moving average</td><td>0</td></tr></table><br/></div></div>"
      ],
      "text/plain": [
       "<IPython.core.display.HTML object>"
      ]
     },
     "metadata": {},
     "output_type": "display_data"
    },
    {
     "data": {
      "text/html": [
       " View run <strong style=\"color:#cdcd00\">genial-cherry-9</strong> at: <a href='https://wandb.ai/akseldkw07/ORCS4529-Homeworks_HW1_Lab%201/runs/i9ykm8eb' target=\"_blank\">https://wandb.ai/akseldkw07/ORCS4529-Homeworks_HW1_Lab%201/runs/i9ykm8eb</a><br> View project at: <a href='https://wandb.ai/akseldkw07/ORCS4529-Homeworks_HW1_Lab%201' target=\"_blank\">https://wandb.ai/akseldkw07/ORCS4529-Homeworks_HW1_Lab%201</a><br>Synced 5 W&B file(s), 0 media file(s), 0 artifact file(s) and 0 other file(s)"
      ],
      "text/plain": [
       "<IPython.core.display.HTML object>"
      ]
     },
     "metadata": {},
     "output_type": "display_data"
    },
    {
     "data": {
      "text/html": [
       "Find logs at: <code>/Users/Akseldkw/coding/Columbia/ORCS4529-Data/wandb/wandb/run-20251008_174340-i9ykm8eb/logs</code>"
      ],
      "text/plain": [
       "<IPython.core.display.HTML object>"
      ]
     },
     "metadata": {},
     "output_type": "display_data"
    }
   ],
   "source": [
    "run.finish()"
   ]
  },
  {
   "cell_type": "markdown",
   "metadata": {
    "id": "HSRnO370P7Ms"
   },
   "source": []
  }
 ],
 "metadata": {
  "colab": {
   "provenance": []
  },
  "kernelspec": {
   "display_name": "kret_312",
   "language": "python",
   "name": "python3"
  },
  "language_info": {
   "codemirror_mode": {
    "name": "ipython",
    "version": 3
   },
   "file_extension": ".py",
   "mimetype": "text/x-python",
   "name": "python",
   "nbconvert_exporter": "python",
   "pygments_lexer": "ipython3",
   "version": "3.12.11"
  }
 },
 "nbformat": 4,
 "nbformat_minor": 0
}