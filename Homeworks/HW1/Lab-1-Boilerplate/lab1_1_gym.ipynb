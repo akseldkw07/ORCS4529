{
 "cells": [
  {
   "cell_type": "markdown",
   "metadata": {
    "id": "3aNAcJKSP7Me"
   },
   "source": [
    "# Lab 1: Problem 1 (MDP algorithms: tabular Q-learning)"
   ]
  },
  {
   "cell_type": "markdown",
   "metadata": {
    "id": "OxYtD0ZfP7Mi"
   },
   "source": [
    "*OpenAI gym FrozenLake environment*\n",
    "\n",
    "Winter is here. You and your friends were tossing around a frisbee at the park\n",
    "    when you made a wild throw that left the frisbee out in the middle of the lake.\n",
    "    The water is mostly frozen, but there are a few holes where the ice has melted.\n",
    "    If you step into one of those holes, you'll fall into the freezing water.\n",
    "    At this time, there's an international frisbee shortage, so it's absolutely imperative that\n",
    "    you navigate across the lake and retrieve the disc.\n",
    "    However, the ice is slippery, so you won't always move in the direction you intend.\n",
    "    The surface is described using a grid like the following\n",
    "\n",
    "        SFFF\n",
    "        FHFH\n",
    "        FFFH\n",
    "        HFFG\n",
    "\n",
    "    S : starting point, safe\n",
    "    F : frozen surface, safe\n",
    "    H : hole, fall to your doom\n",
    "    G : goal, where the frisbee is located\n",
    "\n",
    "    The episode ends when you reach the goal or fall in a hole.\n",
    "    You receive a reward of 1 if you reach the goal, and zero otherwise.\n",
    "    \n",
    "FrozenLake-v1 defines \"solving\" as getting average reward of 0.78 over 100 consecutive trials.\n",
    "\n",
    "More documentation: https://www.gymlibrary.dev/environments/toy_text/frozen_lake/\n"
   ]
  },
  {
   "cell_type": "code",
   "execution_count": 1,
   "metadata": {
    "colab": {
     "base_uri": "https://localhost:8080/",
     "height": 312
    },
    "executionInfo": {
     "elapsed": 51658,
     "status": "ok",
     "timestamp": 1697747913852,
     "user": {
      "displayName": "Shipra Agrawal",
      "userId": "12760872725468885671"
     },
     "user_tz": 240
    },
    "id": "Hi-GbKIMP7Mk",
    "outputId": "a98cf515-3ad9-4ca2-f320-4e9277eb6bd6"
   },
   "outputs": [
    {
     "name": "stderr",
     "output_type": "stream",
     "text": [
      "/Users/Akseldkw/micromamba/envs/gym_depr/lib/python3.10/site-packages/pydantic/_internal/_generate_schema.py:2249: UnsupportedFieldAttributeWarning: The 'repr' attribute with value False was provided to the `Field()` function, which has no effect in the context it was used. 'repr' is field-specific metadata, and can only be attached to a model field using `Annotated` metadata or by assignment. This may have happened because an `Annotated` type alias using the `type` statement was used, or if the `Field()` function was attached to a single member of a union type.\n",
      "  warnings.warn(\n",
      "/Users/Akseldkw/micromamba/envs/gym_depr/lib/python3.10/site-packages/pydantic/_internal/_generate_schema.py:2249: UnsupportedFieldAttributeWarning: The 'frozen' attribute with value True was provided to the `Field()` function, which has no effect in the context it was used. 'frozen' is field-specific metadata, and can only be attached to a model field using `Annotated` metadata or by assignment. This may have happened because an `Annotated` type alias using the `type` statement was used, or if the `Field()` function was attached to a single member of a union type.\n",
      "  warnings.warn(\n",
      "\u001b[34m\u001b[1mwandb\u001b[0m: Currently logged in as: \u001b[33makseldkw\u001b[0m (\u001b[33makseldkw07\u001b[0m) to \u001b[32mhttps://api.wandb.ai\u001b[0m. Use \u001b[1m`wandb login --relogin`\u001b[0m to force relogin\n"
     ]
    },
    {
     "data": {
      "text/html": [],
      "text/plain": [
       "<IPython.core.display.HTML object>"
      ]
     },
     "metadata": {},
     "output_type": "display_data"
    },
    {
     "data": {
      "text/html": [
       "Tracking run with wandb version 0.22.2"
      ],
      "text/plain": [
       "<IPython.core.display.HTML object>"
      ]
     },
     "metadata": {},
     "output_type": "display_data"
    },
    {
     "data": {
      "text/html": [
       "Run data is saved locally in <code>/Users/Akseldkw/Desktop/Columbia/ORCS4529/Homeworks/HW1/Lab-1-Original/wandb/run-20251008_172259-21mr639t</code>"
      ],
      "text/plain": [
       "<IPython.core.display.HTML object>"
      ]
     },
     "metadata": {},
     "output_type": "display_data"
    },
    {
     "data": {
      "text/html": [
       "Syncing run <strong><a href='https://wandb.ai/akseldkw07/ORCS4529-Homeworks_HW1_Lab-1-Original/runs/21mr639t' target=\"_blank\">noble-eon-5</a></strong> to <a href='https://wandb.ai/akseldkw07/ORCS4529-Homeworks_HW1_Lab-1-Original' target=\"_blank\">Weights & Biases</a> (<a href='https://wandb.me/developer-guide' target=\"_blank\">docs</a>)<br>"
      ],
      "text/plain": [
       "<IPython.core.display.HTML object>"
      ]
     },
     "metadata": {},
     "output_type": "display_data"
    },
    {
     "data": {
      "text/html": [
       " View project at <a href='https://wandb.ai/akseldkw07/ORCS4529-Homeworks_HW1_Lab-1-Original' target=\"_blank\">https://wandb.ai/akseldkw07/ORCS4529-Homeworks_HW1_Lab-1-Original</a>"
      ],
      "text/plain": [
       "<IPython.core.display.HTML object>"
      ]
     },
     "metadata": {},
     "output_type": "display_data"
    },
    {
     "data": {
      "text/html": [
       " View run at <a href='https://wandb.ai/akseldkw07/ORCS4529-Homeworks_HW1_Lab-1-Original/runs/21mr639t' target=\"_blank\">https://wandb.ai/akseldkw07/ORCS4529-Homeworks_HW1_Lab-1-Original/runs/21mr639t</a>"
      ],
      "text/plain": [
       "<IPython.core.display.HTML object>"
      ]
     },
     "metadata": {},
     "output_type": "display_data"
    }
   ],
   "source": [
    "# wandb set up for logging runs online and moving them to the leaderboard\n",
    "# create a wandb account when prompted, or simply sign in if you already have an account\n",
    "!pip install wandb -qqq\n",
    "import wandb\n",
    "\n",
    "wandb.login()\n",
    "run = wandb.init()"
   ]
  },
  {
   "cell_type": "code",
   "execution_count": 2,
   "metadata": {
    "colab": {
     "base_uri": "https://localhost:8080/"
    },
    "executionInfo": {
     "elapsed": 1142,
     "status": "ok",
     "timestamp": 1697747914987,
     "user": {
      "displayName": "Shipra Agrawal",
      "userId": "12760872725468885671"
     },
     "user_tz": 240
    },
    "id": "OhatI4mwP7Ml",
    "outputId": "98fbf0c6-72da-4ec4-d598-34826193cb78"
   },
   "outputs": [
    {
     "name": "stderr",
     "output_type": "stream",
     "text": [
      "Gym has been unmaintained since 2022 and does not support NumPy 2.0 amongst other critical functionality.\n",
      "Please upgrade to Gymnasium, the maintained drop-in replacement of Gym, or contact the authors of your software and request that they upgrade.\n",
      "Users of this version of Gym should be able to simply replace 'import gym' with 'import gymnasium as gym' in the vast majority of cases.\n",
      "See the migration guide at https://gymnasium.farama.org/introduction/migration_guide/ for additional information.\n"
     ]
    }
   ],
   "source": [
    "## DO NOT CHANGE THIS CELL\n",
    "import numpy as np\n",
    "import gym\n",
    "\n",
    "env = gym.make(\"FrozenLake-v1\")\n",
    "# env.seed(0)"
   ]
  },
  {
   "cell_type": "markdown",
   "metadata": {
    "id": "UkH27OGFP7Mm"
   },
   "source": [
    "For proper accounting rewards while you learn, we build a wrapper around env.step() and env.reset(). In an episode, every time you take an action the reward will be appended to the reward of the episode, and when ever the environment is reset (at the end of an epsiode), the episode reward is reset to 0."
   ]
  },
  {
   "cell_type": "code",
   "execution_count": 3,
   "metadata": {
    "colab": {
     "base_uri": "https://localhost:8080/"
    },
    "executionInfo": {
     "elapsed": 642,
     "status": "ok",
     "timestamp": 1697747915624,
     "user": {
      "displayName": "Shipra Agrawal",
      "userId": "12760872725468885671"
     },
     "user_tz": 240
    },
    "id": "ayazVgzdP7Mn",
    "outputId": "94eecb00-a9a1-413b-ac27-396eda378c2d"
   },
   "outputs": [],
   "source": [
    "## DO NOT CHANGE THIS CELL\n",
    "# wrapper for accounting rewards\n",
    "rEpisode = 0\n",
    "rList = []\n",
    "fixedWindow = 100\n",
    "movingAverage = 0\n",
    "\n",
    "\n",
    "def reset_decorate(func):\n",
    "    def func_wrapper():\n",
    "        global rList\n",
    "        global movingAverage\n",
    "        global rEpisode\n",
    "        global fixedWindow\n",
    "        rList.append(rEpisode)\n",
    "        if len(rList) >= fixedWindow:\n",
    "            movingAverage = np.mean(rList[len(rList) - fixedWindow : len(rList) - 1])\n",
    "        rEpisode = 0\n",
    "        return func()\n",
    "\n",
    "    return func_wrapper\n",
    "\n",
    "\n",
    "env.reset = reset_decorate(env.reset)\n",
    "\n",
    "\n",
    "def step_decorate(func):\n",
    "    def func_wrapper(action):\n",
    "        global rEpisode\n",
    "        s1, r, d, other, info = func(action)\n",
    "        rEpisode += r\n",
    "        return (s1, r, d, other, info)\n",
    "\n",
    "    return func_wrapper\n",
    "\n",
    "\n",
    "env.step = step_decorate(env.step)\n",
    "\n",
    "\n",
    "def init():\n",
    "    rEpisode = 0\n",
    "    rList = []\n",
    "    movingAverage = 0\n",
    "    return"
   ]
  },
  {
   "cell_type": "markdown",
   "metadata": {
    "id": "LXmu5q2ZP7Mo"
   },
   "source": [
    "Below we illustrate the execution of the Open AI gym enviornment using the policy of chosing random action in every state. Every time an action is taken the enviorment returns a tuple containing next state, reward, and the status (whether terminal state is reached or not)."
   ]
  },
  {
   "cell_type": "code",
   "execution_count": 4,
   "metadata": {
    "id": "p21-sTXvP7Mp"
   },
   "outputs": [
    {
     "name": "stderr",
     "output_type": "stream",
     "text": [
      "/Users/Akseldkw/micromamba/envs/gym_depr/lib/python3.10/site-packages/gym/utils/passive_env_checker.py:233: DeprecationWarning: `np.bool8` is a deprecated alias for `np.bool_`.  (Deprecated NumPy 1.24)\n",
      "  if not isinstance(terminated, (bool, np.bool8)):\n"
     ]
    }
   ],
   "source": [
    "### RANDOM SAMPLING EXAMPLE\n",
    "num_episodes = 1000\n",
    "# number of episodes you want to try\n",
    "episode_max_length = 100\n",
    "# you can explicitly end the epsiode before terminal state is reached\n",
    "\n",
    "env.reset()\n",
    "# env.render()\n",
    "# execute in episodes\n",
    "for i in range(num_episodes):\n",
    "\n",
    "    # reset the environment at the beginning of an episode\n",
    "    s = env.reset()\n",
    "    d = False  # not done\n",
    "\n",
    "    for t in range(episode_max_length):\n",
    "\n",
    "        ################ Random action policy ###########################\n",
    "        # play random action\n",
    "        a = env.action_space.sample()\n",
    "        # get new state, reward, done\n",
    "        s, r, d, _, info = env.step(a)\n",
    "        #################################################################\n",
    "\n",
    "        # break if done, reached terminal state\n",
    "        if d == True:\n",
    "            break\n",
    "\n",
    "    # log per-episode reward and moving average over 100 episodes\n",
    "    wandb.log(\n",
    "        {\n",
    "            \"random reward\": rEpisode,\n",
    "            \"random reward moving average\": movingAverage,\n",
    "            \"random episode\": i,\n",
    "        }\n",
    "    )"
   ]
  },
  {
   "cell_type": "markdown",
   "metadata": {
    "id": "l27kPgcBP7Mp"
   },
   "source": [
    "Implement tabular Q-learning (*YOU SHOULD ONLY CHANGE THE CELL BELOW*)"
   ]
  },
  {
   "cell_type": "code",
   "execution_count": 5,
   "metadata": {
    "id": "AIqgN7tKP7Mq"
   },
   "outputs": [],
   "source": [
    "# initialize episodic structure\n",
    "init()\n",
    "num_episodes = 1000\n",
    "# number of training episodes, you can increase this to train more\n",
    "episode_max_length = 100\n",
    "# initialize discount factor, learning rate\n",
    "gamma = 0.95\n",
    "learnRate = 0.8\n",
    "\n",
    "# create Q table\n",
    "Q = np.zeros(\n",
    "    [env.observation_space.n, env.action_space.n]\n",
    ")  # Q(s,a). The Q-values from this array will be used to evaluate your policy.\n",
    "n = np.ones(\n",
    "    [env.observation_space.n, env.action_space.n]\n",
    ")  # recording number of trails for each arm\n",
    "\n",
    "# execute in episodes\n",
    "for i in range(num_episodes):\n",
    "\n",
    "    # reset the environment at the beginning of an episode\n",
    "    s = env.reset()\n",
    "    d = False  # not done\n",
    "\n",
    "    for t in range(episode_max_length):\n",
    "\n",
    "        ###########SELCT ACTION a for state s using Q-values ##################\n",
    "        # example\n",
    "        # a = np.argmax(Q[s,:])\n",
    "        a = (\n",
    "            env.action_space.sample()\n",
    "        )  # currently selecting a random action, change this\n",
    "\n",
    "        # get new state, reward, done\n",
    "        s1, r, d, _, info = env.step(a)\n",
    "\n",
    "        ##### update Q(s,a) ############\n",
    "\n",
    "        # break if done, reached terminal state\n",
    "        if d == True:\n",
    "            break\n",
    "        s = s1\n",
    "\n",
    "    # log per-episode reward and moving average over 100 episodes\n",
    "    wandb.log(\n",
    "        {\n",
    "            \"training reward\": rEpisode,\n",
    "            \"training reward moving average\": movingAverage,\n",
    "            \"training episode\": i,\n",
    "        }\n",
    "    )\n",
    "wandb.run.summary[\"number of training episodes\"] = num_episodes"
   ]
  },
  {
   "cell_type": "code",
   "execution_count": 6,
   "metadata": {
    "colab": {
     "base_uri": "https://localhost:8080/",
     "height": 441
    },
    "executionInfo": {
     "elapsed": 2611,
     "status": "ok",
     "timestamp": 1697747921280,
     "user": {
      "displayName": "Shipra Agrawal",
      "userId": "12760872725468885671"
     },
     "user_tz": 240
    },
    "id": "OyyIpv_DP7Mr",
    "outputId": "07a3d971-f9f2-4a6b-fc0f-8e7e6d90545b",
    "scrolled": false
   },
   "outputs": [
    {
     "data": {
      "text/html": [
       "<iframe src='https://wandb.ai/akseldkw07/ORCS4529-Homeworks_HW1_Lab-1-Original/runs/1r5wp7hz?jupyter=true' style='border:none;width:100%;height:420px;'></iframe>"
      ]
     },
     "metadata": {},
     "output_type": "display_data"
    },
    {
     "ename": "IndexError",
     "evalue": "only integers, slices (`:`), ellipsis (`...`), numpy.newaxis (`None`) and integer or boolean arrays are valid indices",
     "output_type": "error",
     "traceback": [
      "\u001b[0;31m---------------------------------------------------------------------------\u001b[0m",
      "\u001b[0;31mIndexError\u001b[0m                                Traceback (most recent call last)",
      "Cell \u001b[0;32mIn[6], line 13\u001b[0m\n\u001b[1;32m     11\u001b[0m d \u001b[38;5;241m=\u001b[39m \u001b[38;5;28;01mFalse\u001b[39;00m \u001b[38;5;66;03m#not done\u001b[39;00m\n\u001b[1;32m     12\u001b[0m \u001b[38;5;28;01mfor\u001b[39;00m t \u001b[38;5;129;01min\u001b[39;00m \u001b[38;5;28mrange\u001b[39m(episode_max_length):\n\u001b[0;32m---> 13\u001b[0m     a \u001b[38;5;241m=\u001b[39m np\u001b[38;5;241m.\u001b[39margmax(\u001b[43mQ\u001b[49m\u001b[43m[\u001b[49m\u001b[43ms\u001b[49m\u001b[43m,\u001b[49m\u001b[43m:\u001b[49m\u001b[43m]\u001b[49m)\n\u001b[1;32m     14\u001b[0m     s, r, d, _ \u001b[38;5;241m=\u001b[39m env\u001b[38;5;241m.\u001b[39mstep(a)\n\u001b[1;32m     15\u001b[0m     \u001b[38;5;28;01mif\u001b[39;00m d \u001b[38;5;241m==\u001b[39m \u001b[38;5;28;01mTrue\u001b[39;00m:\n",
      "\u001b[0;31mIndexError\u001b[0m: only integers, slices (`:`), ellipsis (`...`), numpy.newaxis (`None`) and integer or boolean arrays are valid indices"
     ]
    }
   ],
   "source": [
    "%%wandb\n",
    "## DO NOT CHANGE THIS CELL. CHANGING ANY PART OF THIS CELL CAN DISQUALIFY THE SUBMISSION\n",
    "#Evaluation of trained policy\n",
    "init()\n",
    "num_episodes=1000; #number of episodes for evaluation\n",
    "episode_max_length=100\n",
    "movingAverageArray=[]\n",
    "score=0\n",
    "env.reset()\n",
    "for i in range(num_episodes):\n",
    "    s = env.reset()\n",
    "    d = False #not done\n",
    "    for t in range(episode_max_length):\n",
    "        a = np.argmax(Q[s,:])\n",
    "        s, r, d, _ = env.step(a)\n",
    "        if d == True:\n",
    "            break\n",
    "    #log per-episode reward and moving average over 100 episodes\n",
    "    wandb.log({ \"evaluation reward\" : rEpisode, \"evaluation reward moving average\" : movingAverage, \"evaluation episode\" : i})\n",
    "    movingAverageArray.append(movingAverage)\n",
    "    #score is x if there is a window of 100 consecutive episodes where moving average was at least x\n",
    "    if i>100:\n",
    "        score=max(score,min(movingAverageArray[i-100:i-1]))\n",
    "\n",
    "\n",
    "wandb.run.summary[\"score\"]=score"
   ]
  },
  {
   "cell_type": "code",
   "execution_count": 7,
   "metadata": {
    "colab": {
     "base_uri": "https://localhost:8080/",
     "height": 711
    },
    "executionInfo": {
     "elapsed": 12122,
     "status": "ok",
     "timestamp": 1697747933399,
     "user": {
      "displayName": "Shipra Agrawal",
      "userId": "12760872725468885671"
     },
     "user_tz": 240
    },
    "id": "qJlAB0bPP7Ms",
    "outputId": "dcf8ac8a-9ba9-4e2d-acec-3b53fac7758c"
   },
   "outputs": [
    {
     "name": "stderr",
     "output_type": "stream",
     "text": [
      "\u001b[34m\u001b[1mwandb\u001b[0m: \u001b[32m\u001b[41mERROR\u001b[0m The nbformat package was not found. It is required to save notebook history.\n"
     ]
    },
    {
     "data": {
      "text/html": [],
      "text/plain": [
       "<IPython.core.display.HTML object>"
      ]
     },
     "metadata": {},
     "output_type": "display_data"
    },
    {
     "data": {
      "text/html": [
       "<br>    <style><br>        .wandb-row {<br>            display: flex;<br>            flex-direction: row;<br>            flex-wrap: wrap;<br>            justify-content: flex-start;<br>            width: 100%;<br>        }<br>        .wandb-col {<br>            display: flex;<br>            flex-direction: column;<br>            flex-basis: 100%;<br>            flex: 1;<br>            padding: 10px;<br>        }<br>    </style><br><div class=\"wandb-row\"><div class=\"wandb-col\"><h3>Run history:</h3><br/><table class=\"wandb\"><tr><td>random episode</td><td>▁▁▁▁▁▂▂▂▂▂▃▃▃▃▃▄▄▄▄▅▅▅▅▅▅▆▆▆▆▆▆▇▇▇▇▇▇███</td></tr><tr><td>random reward</td><td>▁▁▁▁▁▁▁▁▁▁▁▁▁▁▁▁▁▁▁▁▁▁▁▁▁█▁▁▁▁▁▁▁▁▁▁▁▁▁▁</td></tr><tr><td>random reward moving average</td><td>▁▁▁▁▁▃▃▃▃▃▁▁▁▁▁▁▅▅█▅▅▅▆▅▅▆▆▅▅▅▅▆▃▅▅▁▁▁▁▃</td></tr><tr><td>training episode</td><td>▁▁▁▁▁▂▂▂▂▂▂▂▂▂▃▃▃▃▃▃▄▄▄▅▅▅▅▆▆▆▆▆▆▇▇▇▇███</td></tr><tr><td>training reward</td><td>▁▁▁▁▁▁▁▁▁▁▁▁▁▁▁▁▁▁▁▁▁▁▁▁▁▁▁▁▁▁▁▁▁▁▁▁▁▁▁▁</td></tr><tr><td>training reward moving average</td><td>▁▁▁▁▃▃▃▃▃▃▁▁▁▁▃▃▅▃▃▃▁▁▃▃▃██▆▃▁▁▁▁▁▁▁▁▁▁▁</td></tr></table><br/></div><div class=\"wandb-col\"><h3>Run summary:</h3><br/><table class=\"wandb\"><tr><td>number of training episodes</td><td>1000</td></tr><tr><td>random episode</td><td>999</td></tr><tr><td>random reward</td><td>0</td></tr><tr><td>random reward moving average</td><td>0.0101</td></tr><tr><td>training episode</td><td>999</td></tr><tr><td>training reward</td><td>0</td></tr><tr><td>training reward moving average</td><td>0</td></tr></table><br/></div></div>"
      ],
      "text/plain": [
       "<IPython.core.display.HTML object>"
      ]
     },
     "metadata": {},
     "output_type": "display_data"
    },
    {
     "data": {
      "text/html": [
       " View run <strong style=\"color:#cdcd00\">polar-wildflower-4</strong> at: <a href='https://wandb.ai/akseldkw07/ORCS4529-Homeworks_HW1_Lab-1-Original/runs/1r5wp7hz' target=\"_blank\">https://wandb.ai/akseldkw07/ORCS4529-Homeworks_HW1_Lab-1-Original/runs/1r5wp7hz</a><br> View project at: <a href='https://wandb.ai/akseldkw07/ORCS4529-Homeworks_HW1_Lab-1-Original' target=\"_blank\">https://wandb.ai/akseldkw07/ORCS4529-Homeworks_HW1_Lab-1-Original</a><br>Synced 5 W&B file(s), 0 media file(s), 0 artifact file(s) and 0 other file(s)"
      ],
      "text/plain": [
       "<IPython.core.display.HTML object>"
      ]
     },
     "metadata": {},
     "output_type": "display_data"
    },
    {
     "data": {
      "text/html": [
       "Find logs at: <code>./wandb/run-20251008_171529-1r5wp7hz/logs</code>"
      ],
      "text/plain": [
       "<IPython.core.display.HTML object>"
      ]
     },
     "metadata": {},
     "output_type": "display_data"
    }
   ],
   "source": [
    "run.finish()"
   ]
  },
  {
   "cell_type": "markdown",
   "metadata": {
    "id": "HSRnO370P7Ms"
   },
   "source": []
  }
 ],
 "metadata": {
  "colab": {
   "provenance": []
  },
  "kernelspec": {
   "display_name": "gym_depr",
   "language": "python",
   "name": "python3"
  },
  "language_info": {
   "codemirror_mode": {
    "name": "ipython",
    "version": 3
   },
   "file_extension": ".py",
   "mimetype": "text/x-python",
   "name": "python",
   "nbconvert_exporter": "python",
   "pygments_lexer": "ipython3",
   "version": "3.10.18"
  }
 },
 "nbformat": 4,
 "nbformat_minor": 0
}
